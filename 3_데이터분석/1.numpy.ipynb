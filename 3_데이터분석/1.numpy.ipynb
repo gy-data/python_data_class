{
 "cells": [
  {
   "cell_type": "markdown",
   "id": "4e14b5b0",
   "metadata": {},
   "source": [
    "## Numpy\n",
    "- 파이썬에서 수학적 계산을 쉽게 할 수 있도록 도와주는 라이브러리"
   ]
  },
  {
   "cell_type": "code",
   "execution_count": 2,
   "id": "340361c7",
   "metadata": {},
   "outputs": [],
   "source": [
    "# 모듈 불러오기\n",
    "import numpy as np "
   ]
  },
  {
   "cell_type": "code",
   "execution_count": 4,
   "id": "9471f356",
   "metadata": {},
   "outputs": [
    {
     "data": {
      "text/plain": [
       "array(['A', 'B', 'C', 'D', 'E'], dtype='<U1')"
      ]
     },
     "execution_count": 4,
     "metadata": {},
     "output_type": "execute_result"
    }
   ],
   "source": [
    "# 1차원 배열 생성\n",
    "arr = np.array([\"A\", \"B\", \"C\", \"D\", \"E\"])\n",
    "arr\n",
    "# <U1 = string"
   ]
  },
  {
   "cell_type": "code",
   "execution_count": 8,
   "id": "9bc05a0f",
   "metadata": {},
   "outputs": [
    {
     "name": "stdout",
     "output_type": "stream",
     "text": [
      "(5,)\n",
      "1\n",
      "<U1\n"
     ]
    }
   ],
   "source": [
    "print(arr.shape) # 요소의 개수\n",
    "print(arr.ndim) # 차원\n",
    "print(arr.dtype) # data type => 공통적인 데이터 타입"
   ]
  },
  {
   "cell_type": "code",
   "execution_count": 12,
   "id": "6073a3b1",
   "metadata": {},
   "outputs": [
    {
     "data": {
      "text/plain": [
       "array([['A', 'B', 'C'],\n",
       "       ['D', 'E', 'F']], dtype='<U1')"
      ]
     },
     "execution_count": 12,
     "metadata": {},
     "output_type": "execute_result"
    }
   ],
   "source": [
    "# 2차원 배열 생성\n",
    "arr2 = np.array([[\"A\",\"B\", \"C\"], [\"D\", \"E\", \"F\"]])\n",
    "arr2 "
   ]
  },
  {
   "cell_type": "code",
   "execution_count": 14,
   "id": "fc4ea0e5",
   "metadata": {},
   "outputs": [
    {
     "name": "stdout",
     "output_type": "stream",
     "text": [
      "(2, 3)\n",
      "2\n",
      "<U1\n"
     ]
    }
   ],
   "source": [
    "print(arr2.shape)\n",
    "print(arr2.ndim) \n",
    "print(arr2.dtype)"
   ]
  },
  {
   "cell_type": "code",
   "execution_count": 21,
   "id": "60286fd2",
   "metadata": {},
   "outputs": [
    {
     "data": {
      "text/plain": [
       "array([[['A', 'B'],\n",
       "        ['C', 'D']],\n",
       "\n",
       "       [['E', 'F'],\n",
       "        ['G', 'H']]], dtype='<U1')"
      ]
     },
     "execution_count": 21,
     "metadata": {},
     "output_type": "execute_result"
    }
   ],
   "source": [
    "# 3차원 배열 생성\n",
    "arr3 = np.array([[[\"A\",\"B\"], [\"C\", \"D\"]],[[\"E\",\"F\"],[\"G\",\"H\"]]]) \n",
    "arr3"
   ]
  },
  {
   "cell_type": "code",
   "execution_count": 23,
   "id": "fb73e12d",
   "metadata": {},
   "outputs": [
    {
     "name": "stdout",
     "output_type": "stream",
     "text": [
      "(2, 2, 2)\n",
      "3\n",
      "<U1\n"
     ]
    }
   ],
   "source": [
    "print(arr3.shape)\n",
    "print(arr3.ndim) \n",
    "print(arr3.dtype)"
   ]
  },
  {
   "cell_type": "markdown",
   "id": "c6f0348c",
   "metadata": {},
   "source": [
    "### 1) Numpy 형상 관련 함수"
   ]
  },
  {
   "cell_type": "code",
   "execution_count": 27,
   "id": "5e6a2907",
   "metadata": {},
   "outputs": [
    {
     "name": "stdout",
     "output_type": "stream",
     "text": [
      "<U1\n",
      "float64\n"
     ]
    }
   ],
   "source": [
    "arr4 = np.array([\"1\",\"2\",\"3\",\"4\",\"5\"])\n",
    "print(arr4.dtype)\n",
    "\n",
    "arr4 = arr4.astype(np.float64) # 원하는 타입으로 바꿀 때 astype을 사용한다.\n",
    "print(arr4.dtype)"
   ]
  },
  {
   "cell_type": "markdown",
   "id": "b3060cb2",
   "metadata": {},
   "source": [
    "### 2) Numpy 인덱싱 & 슬라이싱"
   ]
  },
  {
   "cell_type": "code",
   "execution_count": 35,
   "id": "d79915e7",
   "metadata": {},
   "outputs": [
    {
     "name": "stdout",
     "output_type": "stream",
     "text": [
      "[1 2 3 4 5 6 7 8 9]\n",
      "[1 2 3]\n",
      "[7 8 9]\n"
     ]
    }
   ],
   "source": [
    "# 인덱싱\n",
    "arr = np.arange(1, 10)\n",
    "\n",
    "print(arr)\n",
    "print(arr[:3])\n",
    "\n",
    "print(arr[arr>6]) # 6보다 큰 데이터보다 큰 값을 가져오기\n",
    "\n"
   ]
  },
  {
   "cell_type": "markdown",
   "id": "6c5aaf63",
   "metadata": {},
   "source": [
    "### 3) Numpy 연산"
   ]
  },
  {
   "cell_type": "code",
   "execution_count": 37,
   "id": "7f8cb299",
   "metadata": {},
   "outputs": [
    {
     "name": "stdout",
     "output_type": "stream",
     "text": [
      "[[ 6  8]\n",
      " [10 12]]\n"
     ]
    }
   ],
   "source": [
    "# 배열 연산\n",
    "arr1 = np.array([[1,2], [3,4]])\n",
    "arr2 = np.array([[5,6], [7,8]])\n",
    "\n",
    "add =np.add(arr1, arr2)\n",
    "print(add)"
   ]
  }
 ],
 "metadata": {
  "kernelspec": {
   "display_name": "Python 3 (ipykernel)",
   "language": "python",
   "name": "python3"
  },
  "language_info": {
   "codemirror_mode": {
    "name": "ipython",
    "version": 3
   },
   "file_extension": ".py",
   "mimetype": "text/x-python",
   "name": "python",
   "nbconvert_exporter": "python",
   "pygments_lexer": "ipython3",
   "version": "3.9.13"
  }
 },
 "nbformat": 4,
 "nbformat_minor": 5
}
