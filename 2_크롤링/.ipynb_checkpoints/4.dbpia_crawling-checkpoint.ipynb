{
 "cells": [
  {
   "cell_type": "markdown",
   "id": "6aad1be7",
   "metadata": {},
   "source": [
    "## DBPIA 논문 데이터 크롤링\n",
    "- 상세 페이지의 제목과 내용을 가져오기."
   ]
  },
  {
   "cell_type": "code",
   "execution_count": 1,
   "id": "a94a1082",
   "metadata": {},
   "outputs": [],
   "source": [
    "from selenium import webdriver\n",
    "from selenium.webdriver.common.by import By\n",
    "import time"
   ]
  },
  {
   "cell_type": "code",
   "execution_count": 2,
   "id": "70ee6c9f",
   "metadata": {},
   "outputs": [
    {
     "name": "stderr",
     "output_type": "stream",
     "text": [
      "/var/folders/qy/933lc_xn4vvgyp0gdwf0xlb80000gn/T/ipykernel_25602/2629565053.py:2: DeprecationWarning: executable_path has been deprecated, please pass in a Service object\n",
      "  browser = webdriver.Chrome(path)\n"
     ]
    }
   ],
   "source": [
    "path = \"/Users/young/Desktop/chromedriver\"\n",
    "browser = webdriver.Chrome(path)"
   ]
  },
  {
   "cell_type": "code",
   "execution_count": 3,
   "id": "5a681d84",
   "metadata": {},
   "outputs": [
    {
     "name": "stdout",
     "output_type": "stream",
     "text": [
      "검색하고자 하는 단어를 입력해주세요.인공지능\n"
     ]
    }
   ],
   "source": [
    "search_word = input(\"검색하고자 하는 단어를 입력해주세요.\")\n",
    "url = \"https://www.dbpia.co.kr/search/topSearch?searchOption=all&query={}\"\n",
    "fin_url = url.format(search_word)\n",
    "browser.get(fin_url)\n",
    "time.sleep(3)"
   ]
  },
  {
   "cell_type": "markdown",
   "id": "bd847031",
   "metadata": {},
   "source": [
    "current_page = browser.find_element(By.ID, 'mobileCurrentCount').get_attribute(\"innerText\")\n",
    "end_page = browser.find_element(By.ID, 'mobileTotalCount').get_attribute(\"innerText\")\n",
    "\n",
    "print(int(current_page)/20)\n",
    "print(int(end_page)-int(current_page))"
   ]
  },
  {
   "cell_type": "code",
   "execution_count": 4,
   "id": "69dafcff",
   "metadata": {},
   "outputs": [],
   "source": [
    "# 페이지 넘기기\n",
    "\n",
    "for n in range(1, 3):\n",
    "    xpath = '//*[@id=\"pageList\"]/a[{}]'\n",
    "    fin_xpath = xpath.format(str(n))\n",
    "    browser.find_element(By.XPATH, fin_xpath).click()\n",
    "    time.sleep(5)"
   ]
  },
  {
   "cell_type": "code",
   "execution_count": 5,
   "id": "f2c31813",
   "metadata": {},
   "outputs": [
    {
     "name": "stdout",
     "output_type": "stream",
     "text": [
      "['https://www.dbpia.co.kr/journal/articleDetail?nodeId=NODE11144126', 'https://www.dbpia.co.kr/journal/articleDetail?nodeId=NODE11120638', 'https://www.dbpia.co.kr/journal/articleDetail?nodeId=NODE11137860', 'https://www.dbpia.co.kr/journal/articleDetail?nodeId=NODE11137862', 'https://www.dbpia.co.kr/journal/articleDetail?nodeId=NODE11137859', 'https://www.dbpia.co.kr/journal/articleDetail?nodeId=NODE11135370', 'https://www.dbpia.co.kr/journal/articleDetail?nodeId=NODE11144407', 'https://www.dbpia.co.kr/journal/articleDetail?nodeId=NODE11144403', 'https://www.dbpia.co.kr/journal/articleDetail?nodeId=NODE11120870', 'https://www.dbpia.co.kr/journal/articleDetail?nodeId=NODE11144411', 'https://www.dbpia.co.kr/journal/articleDetail?nodeId=NODE11144406', 'https://www.dbpia.co.kr/journal/articleDetail?nodeId=NODE11131901', 'https://www.dbpia.co.kr/journal/articleDetail?nodeId=NODE11143460', 'https://www.dbpia.co.kr/journal/articleDetail?nodeId=NODE11111712', 'https://www.dbpia.co.kr/journal/articleDetail?nodeId=NODE11130879', 'https://www.dbpia.co.kr/journal/articleDetail?nodeId=NODE11144409', 'https://www.dbpia.co.kr/journal/articleDetail?nodeId=NODE11110513', 'https://www.dbpia.co.kr/journal/articleDetail?nodeId=NODE11144410', 'https://www.dbpia.co.kr/journal/articleDetail?nodeId=NODE11077389', 'https://www.dbpia.co.kr/journal/articleDetail?nodeId=NODE11114129']\n",
      "['vacant', '본 연구에서는 컴퓨터 비전공자 대상의 인공지능 교양 교육을 위한 프로젝트 학습법을 적용한 후 교육적 효과를 파악하고자 한다. 실험집단과 통제집단 각각의 학습몰입, 인공지능 효능감의 향상 정도를 파악하기 위하여 각 집단 내에서 대응표본 t-검정을 실시하였고, 수업 후 실험집단과 통제집단의 학습몰입과 인공지능 효능감에 대한 사전검사와 사후검사의 통계적 효과를 알아보기 위해 독립표본 t-검정을 실시하였다. 그 결과 실험집단과 통제집단은 각각 수업 전과 후 학습몰입과 인공지능 효능감에서 유의미한 향상을 보였다. 인공지능 수업에서 프로젝트 학습방법을 적용한 실험군과 이론과 실습만 진행한 통제집단 간의 학습몰입은 통계적으로 유의한 차이가 없었지만, 프로젝트 학습방법을 적용한 실험집단은 이론과 실습만 진행한 통제집단에 비해 인공지능의 효능감이 유의미한 수준으로 향상되었음을 확인하였다.\\n\\nIn this study, the educational effect were sought to be identified after developing and applying project learning for the artificial intelligence based liberal arts education for the non-computer majors. A paired-sample t-test was performed within each group to determine the extent of improvement in the learning flow and artificial intelligence efficacy in the experimental and control groups. After class, an independent sample t-test was performed to examine the statistical effects of pre-test and post-test on the learning flow and artificial intelligence efficacy in the experimental and control groups. The experimental group and control group demonstrated significant improvements in the learning flow and artificial intelligence efficacy before and after class, each respectively. There was no statistically significant difference in the learning flow between the experimental group for which the project learning method was applied and the control group for which only theory and practice were conducted in the artificial intelligence class. It was also confirmed that the experimental group for which the project learning method was applied improved the efficacy of artificial intelligence to a significant level compared to the control group which only proceeded with theory and practice. In this study, the educational effect were sought to be identified after developing and applying project learning for the artificial intelligence based liberal arts education for the non-computer majors. A paired-sample t-test was performed within each group to determine the extent of improvement in the learning flow and artificial intelligence efficacy in the experimental and control groups. After class, an independent sample t-test was performed to examine the statistical effects of pre-test and post-test on the learning flow and artificial intelligence efficacy in the experimental and control groups. The experimental group and control group demonstrated significant improvements in the learning flow and artificial intelligence efficacy before and after class, each respectively. There was no statistically significant difference in the learning flow between the experimental group for which the project learning method was applied and the control group for which only theory and practice were conducted in the artificial intelligence class. It was also confirmed that the experimental group for which the project learning method was applied improved the efficacy of artificial intelligence to a significant level compared to the control group which only proceeded with theory and practice.', 'vacant', 'vacant', 'vacant', 'vacant', '급변하는 미래 사회에 대응하기 위한 2022 개정 교육과정의 주요 기조가 ‘디지털 소양 강화 및 정보교육 확대’인 것처럼 체계적인 인공지능 교육이 수업 현장에서 원활하게 이뤄질 필요가 있다. AI교육의 목표인 인공지능 리터러시 소양에 대한 최근 연구들을 살펴보면 인공지능 리터러시 개념 및 내용체계 등을 탐구하고 정립해가는 시작단계에 불과하며, 인공지능 교육 동향 연구는 꾸준히 진행되어 왔으나 인공지능 교육 모형 동향을 살핀 연구는 이루어지지 않았다. 따라서 인공지능 교육 관련 교수·학습모형에 대한 관심 있는 연구가 필요하다.\\n이에 본 연구에서는 2017년에서 2022년까지의 국내의 인공지능 교육 관련 교수·학습 모형 동향을 분석하는 것을 목적으로 하여 관련 논문을 수집해 현재까지의 연구동향을 파악하고 분류기준에 따라 연구 편수, 연구 대상, 연구 내용을 분석하여 시사점을 도출하였다.', '미래 사회로의 디지털 전환 과정에서 인공지능의 중요성이 커지고 있으나 2021년 11월에 발표된 각론에 따르면 2022 개정 교육과정에서 인공지능 교육의 시수 확충은 불투명한 상황이다. 이에 반해 교과 교육 내에서 디지털·인공지능 융합을 통한 내용 재구조화를 제시하여 실천적인 적용 방안이 필요한 상황이다. 본 연구에서는 2015 개정 교육과정의 틀에서 개발된 인공지능 관련 교과목 및 교재를 분석하여 2022 개정 교육과정에서 진행될 인공지능 교육에 대한 실행 방안을 내용적 측면에서 제시하였다. 분석 대상으로 고등학교 선택 교과목 2종과 교육부와 한국과학창의재단이 개발한 학교급별 교재 5종을 선정하였다. 분석 결과, 2015 개정 교육과정의 인공지능 교육은 인공지능 원리 이해와 활용 측면 위주로 구성되어 있으며, 인공지능 교육의 세부 내용과 교과 융합 측면에서는 보완이 필요한 것으로 나타났다. 이에 따라 인공지능 교육 전반에서 인공지능의 원리와 활용 측면을 다양한 교과목과 연계하여 세분화해 구성하고, 인공지능과 다양한 교과목의 융합을 위한 학습자료 개발 및 활용이 필요함을 제안하였다. 본 연구는 기존 교육내용 분석을 통해 인공지능 교육의 실천적 방안 제시를 시도하였다는 점에서 그 의의가 있다.', '유동소음을 효과적으로 분석하려는 노력은 오랫동안 수행되었지만, 복잡한 상호작용으로 인한 이론적 규명의 어려움과 실험에 큰 비용이 소요된다는 한계로 더딘 발전이 이루어져 왔다. 이에, 본 연구에서는 유체-구조-음향 간의 상호작용을 분석하기 위해 공력음향학의 기초이론과 연구 동향, AI 적용사례 및 방안을 고찰하였다. 이론적 접근법은 Lighthill의 음향 상사법을 시작으로 Curle 음향이론, Ffowcs Williams와 Hawkings 방정식을 정리하였다. 최근 급격한 발전을 이루고 있는 AI 기법의 공력음향학에 대한 적용은 기존의 한계를 보완하고, 새로운 문제 해결법을 제시하리라 기대한다.\\n\\nEfforts to efficiently analyze flow-induced noise have been made for a long time, but slow development has been made due to the difficulty of theoretical identification due to complex interactions and the limitation of the high cost of experiments. Therefore, the basic theory and research trends of FSAI, and cases of AI applications and plans were presented in this study. Starting with Lighthill’s acoustic analogy, the theoretical approach was summarized Curle’s theory, and Ffowcs Williams and Hawkings equation. It is expected that the application of AI techniques, which have been rapidly developing in recent years, to aeroacoustics will supplement the limitations and suggest new problem solutions. Efforts to efficiently analyze flow-induced noise have been made for a long time, but slow development has been made due to the difficulty of theoretical identification due to complex interactions and the limitation of the high cost of experiments. Therefore, the basic theory and research trends of FSAI, and cases of AI applications and plans were presented in this study. Starting with Lighthill’s acoustic analogy, the theoretical approach was summarized Curle’s theory, and Ffowcs Williams and Hawkings equation. It is expected that the application of AI techniques, which have been rapidly developing in recent years, to aeroacoustics will supplement the limitations and suggest new problem solutions.', '최근 인공지능이 우리의 생활과 가까워짐에 따라 인공지능 기술을 바탕으로 변화하는 사회를 준비하고 실생활에서 인공지능을 다양하게 활용할 수 있도록 인공지능 무엇인지를 이해하는 것이 중요하다. 이러한 변화에 대비하기 위해서는 초등학생 때부터 기초적인 소양으로서 인공지능에 대한 기본적인 지식과 역량을 키우고 변화하는 환경과 상황에 적용할 수 있는 능력을 계발해야 한다. 하지만 현재 교육과정 체제에서는 컴퓨팅 사고력에 대한 교육조차 초등학교 6학년이 되어서야 진행이 되고 있다. 미래 사회를 살아갈 모든 학생이 정보의 비대칭으로 차별받지 않고 인공지능의 기본 교육을 받을 기회를 평등하게 누리기 위해서는 현재 우리나라 공교육에서 인공지능 교육을 제공해야 하는 시기가 기존의 교육과정보다 빠르게 진행되어야 한다. 이런 의미에서 볼 때 현재 많이 연구되고 있는 6학년 대상의 인공지능 교육 프로그램들은 3,4학년 학생들에게는 그 수준이 높고, 적용하는데 어려움이 있다. 이에 본 연구에서는 초등학교 3,4학년 수준에 맞는 방법을 활용한 인공지능 융합교육 프로그램을 개발하고자 한다. 개발하는 교육 프로그램은 처음 인공지능에 대해서 배우는 초등학교 3-4학년군 학생들이 온작품 읽기 프로젝트를 통해 보다 친숙하고 효과적인 방법으로 인공지능에 대해 배울 수 있도록 한다.', '인공지능 시장의 규모가 증대됨에 따라 관련 인재를 양성하기 위해 인공지능 교육의 중요성이 강조되고 있다. 올바른 인공지능 교육을 위해서는 교수학습 방법이 중요하나, 선행 연구를 살펴보면 초등학교에 적합한 교수학습 방법은 부족한 실정이다. 이에 본 연구에서는 인간의 판단 기준인 특징(feature) 관점에서 학습자 자신의 (지능적) 생각을 스스로 생각해봄으로써 ‘인공지능은 인간의 지능을 모방하여 모델화한 것’임을 학습하고자 한다. 이를 위해 초등학교 고학년 수준을 고려하여 ‘분류·군집’ 모델 중 이미지·소리 인식을 주제로 언플러그드 활동을 설계하였다. 본 연구의 효과를 확인하기 위해 차시별 활동지를 비교하여 (지능적) 생각에 대한 학습자 관점의 변화 양상을 분석하였으며 사전-사후 설문 결과를 비교하여 학습자의 인공지능 역량 변화를 관찰하였다. 분석 결과, 학습자는 다양한 특징(feature)을 발견할 수 있었으며 인간의 지능과 인공지능의 연결성을 파악하여 인식·구분 절차를 표현하였다. 이를 통해 본 연구가 학습자의 인공지능 역량 함양에 긍정적인 효과가 있음을 확인하였다.', 'The development of lab-on-a-chip technology based on microfluidics has been used from diagnostic test to drug screening in biomedical science. Lab-on-a-chip technology is also being expanded to the concept of an organ-on-a-chip with the development of cell biology and biocompatible material development. In addition, artificial intelligence (AI) has brought dramatic changes over the past few years in science, industry, defense, science and healthcare. AIgenerated output is beginning to prove comparable or even superior to that of human experts. Lab-on-a-chip technology in specific microfluidic devices can overcome the above bottlenecks as a platform for building and implementing AI in a large-scale, cost-effective, high-throughput, automated and multiplexed manner. This platform, high-throughput imaging, becomes an important tool because it can generate high-content information which are too complex to analyze with conventional computational tools. In addition to the capabilities of a data provider, lab-on-a-chip technology can also be leveraged to enable AI developed for the accurate identification, characterization, classification and prediction of objects in heterogeneous samples. AI will provide quantitative and qualitative analysis results close to human in the urology field with lab-on-a-chip.', 'vacant', '최근 인공지능 주차관제시스템은 딥러닝을 활용해 차량 번호판에 대한 인식률을 높이고 있지만 위조번호판 부착 차량을 판별하지 못한다는 문제점이 있다. 이러한 보안상의 문제점이 있음에도 불구하고 현재까지 여러 기관에서 기존의 시스템을 그대로 사용하고 있는 상황이다. 실례로 위조번호판을 이용한 실험에서 정부의 주요 기관을 대상으로 진입에 성공한 사례도 있다. 본 논문에서는 이러한 위조번호판을 부착한 차량의 출입을 방지하기 위해서 기존 인공지능 주차관제시스템의 개선 방안을 제시한다. 이를 위해 제안하는 방법은 기존 시스템이 차량의 번호판의 일치여부를 통과기준으로 사용하듯이 이미지에서 특징이 되는 특징점의 정보를 추출해내는 ORB 알고리즘을 활용하여 추출한 차량 앞면 특징점들의 매칭정도를 통과기준으로 사용하는 방법이다. 또한 내부에 차량이 존재하는지 여부를 확인하는 절차를 제안 시스템에 포함시켜 위조번호판을 부착한 동일 차종 차량의 진입도 방지하였다. 실험 결과, 위조번호판을 부착한 차량들의 진입을 막아내며 기존시스템에 비해 위조번호판을 막아내는 개선된 성능을 보였다. 이러한 결과를 통해 기존 인공지능 주차관제시스템의 체계를 유지하면서 본 논문에서 제안하는 방법들을 기존의 주차관제시스템에 적용하여 위조번호판을 부착한 차량의 출입을 방지할 수 있음을 확인할 수 있었다.\\n\\nRecently, artificial intelligence parking control systems have increased the recognition rate of vehicle license plates using deep learning, but there is a problem that they cannot determine vehicles with fake license plates. Despite these security problems, several institutions have been using the existing system so far. For example, in an experiment using a counterfeit license plate, there are cases of successful entry into major government agencies. This paper proposes an improved system over the existing artificial intelligence parking control system to prevent vehicles with such fake license plates from entering. The proposed method is to use the degree of matching of the front feature points of the vehicle as a passing criterion using the ORB algorithm that extracts information on feature points characterized by an image, just as the existing system uses the matching of vehicle license plates as a passing criterion. In addition, a procedure for checking whether a vehicle exists inside was included in the proposed system to prevent the entry of the same type of vehicle with a fake license plate. As a result of the experiment, it showed the improved performance in identifying vehicles with fake license plates compared to the existing system. These results confirmed that the methods proposed in this paper could be applied to the existing parking control system while taking the flow of the original artificial intelligence parking control system to prevent vehicles with fake license plates from entering. Recently, artificial intelligence parking control systems have increased the recognition rate of vehicle license plates using deep learning, but there is a problem that they cannot determine vehicles with fake license plates. Despite these security problems, several institutions have been using the existing system so far. For example, in an experiment using a counterfeit license plate, there are cases of successful entry into major government agencies. This paper proposes an improved system over the existing artificial intelligence parking control system to prevent vehicles with such fake license plates from entering. The proposed method is to use the degree of matching of the front feature points of the vehicle as a passing criterion using the ORB algorithm that extracts information on feature points characterized by an image, just as the existing system uses the matching of vehicle license plates as a passing criterion. In addition, a procedure for checking whether a vehicle exists inside was included in the proposed system to prevent the entry of the same type of vehicle with a fake license plate. As a result of the experiment, it showed the improved performance in identifying vehicles with fake license plates compared to the existing system. These results confirmed that the methods proposed in this paper could be applied to the existing parking control system while taking the flow of the original artificial intelligence parking control system to prevent vehicles with fake license plates from entering.', '본 연구의 목적은 인공지능 음성합성 서비스의 사업자가 인공지능의 학습용 데이터를 확보하기 위해 실연자와 계약을 체결하는 과정에서 실연자의 권리가 부당하게 침해되고 있다는 사실을 밝히고, 실연자의 권리를 보호하는 방안을 모색하는 데 있다. 인공지능 음성합성 서비스를 제공하는 사업자는 거래상 지위를 남용하여 실연자에게 통상의 방송녹음 보수 수준에도 미치지 못하는 적은 금액을 일시불로 지급하는 대가로 학습용 음성데이터에 대하여 인격권의 불행사특약을 포함한 영구하고 무제한적인 이용허락을 요구하였다. 이에 대하여 이 글은 실연자의 저작권법상 인격권, 실연자의 일반적 인격권, 부정경쟁방지법에 의한 실연자의 권리보호 방안을 검토하였으며, 한편으로는 공정한 이용허락관행을 정착시키기 위한 방안을 모색하였다. 이 글은 인공지능 음성합성 시스템의 학습용 데이터에 대한 실연자의 권리를 논하는데 중점을 두었다. 그러나 문제의 본질은 인공지능 생성물로 인한 기술적 실업(technological unemployment) 현상이다. 개별 직군이나 사안에 국한된 것이 아니다. 100여 년 전 상업용 음반의 등장으로 가수나 연주자들이 직면하였던 기술적 실업을 타개하기 위해 저작인접권이라는 새로운 권리를 창출하였던 역사적 사실을 교훈으로 삼아, 일국(一國) 차원의 해결이 아닌 국제규범 차원의 해결방안을 모색해야할 시점이다.\\n\\nThis study aims to reveal that performers’ rights are unfairly violated in the contract process to secure learning data for artificial intelligence voice synthesis systems and seeks ways to protect performers’ rights. Users of artificial intelligence learning voice data are demanding permanent and unlimited permission to use learning voice data in exchange for paying performers a small amount less than regular broadcast recording fees. In response, this study reviewed the performers’ rights under the Copyright Act, their general personal rights, and their rights under the Unfair Competition Prevention Act. In addition, it sought ways to establish fair license practices. Although this study only discusses the performers’ rights to artificial intelligence speech synthesis systems’ learning data, this problem also started technological unemployment caused by artificial intelligence products. It is time to learn from the historical fact that the emergence of commercial records over 100 years ago created a new right called neighboring rights to overcome technological unemployment faced by singers and performers and find a solution through discussions at the international level. This study aims to reveal that performers’ rights are unfairly violated in the contract process to secure learning data for artificial intelligence voice synthesis systems and seeks ways to protect performers’ rights. Users of artificial intelligence learning voice data are demanding permanent and unlimited permission to use learning voice data in exchange for paying performers a small amount less than regular broadcast recording fees. In response, this study reviewed the performers’ rights under the Copyright Act, their general personal rights, and their rights under the Unfair Competition Prevention Act. In addition, it sought ways to establish fair license practices. Although this study only discusses the performers’ rights to artificial intelligence speech synthesis systems’ learning data, this problem also started technological unemployment caused by artificial intelligence products. It is time to learn from the historical fact that the emergence of commercial records over 100 years ago created a new right called neighboring rights to overcome technological unemployment faced by singers and performers and find a solution through discussions at the international level.', '인공지능 기술의 발달이 산업과 사회에 많은 영향을 주고 있으며 이러한 시대의 흐름에 발맞춰 관련 산업 육성과 학생들의 미래 역량을 길러주기 위한 정책들이 발표되고 있다. 인공지능 기술의 발전에는 폭발적으로 증가하는 데이터의 축적과 활용이 큰 영향을 미쳤으며, 최근 인공지능을 위한 데이터 관련 정책과 연구가 많이 이루어지고 있다. 인공지능 기술 발전 측면에서 활발히 진행되고 있는 데이터 관련 연구와 비교해, 인공지능 교육의 측면에서는 교육 목적의 데이터셋 관련 연구가 매우 부족하다. 이에 본 연구는 인공지능 교육을 현장에 적용하는 교사의 요구를 Rossett의 요구 분석 모형을 통해 분석하였으며, 이를 기반으로 인공지능 교육용 데이터셋 제공 라이브러리의 개발 방향을 설계 하였다. 도출된 개발 방향은 크게 데이터셋과 라이브러리 부가 기능으로 나누었으며, 라이브러리가 포함해야할 데이터셋의 주제, 형태, 배포 방법, 데이터 생성 등의 기능을 설계하여 제시하였다. 본 연구의 결과로 제시된 인공지능 교육용 데이터셋 제공 라이브러리의 개발 방향이 지속적으로 연구되고 개선된다면 교육을 위한 목적의 다양한 라이브러리들이 개발되고 교육에 활용되는데 도움을 줄 수 있을 것이다. 본 연구를 시작으로 다양한 교육용 데이터셋 관련 연구가 지속적으로 이루어져 인공지능 시대를 살아갈 학생들의 핵심 역량인 디지털 리터러시와 컴퓨팅 사고력을 함양하는데 도움이 될 수 있기를 바란다.', 'With the advent of autonomous ships, it is emerging as one of the very important issues not only to operate with a minimum crew or unmanned ships, but also to secure the safety of ships to prevent marine accidents. On-site inspection of the hull is mainly performed by the inspector\"s visual inspection, and video information is recorded using a small camera if necessary. However, due to the shortage of inspection personnel, time and space constraints, and the pandemic situation, the necessity of introducing an automated inspection system using artificial intelligence and remote inspection is becoming more important. Furthermore, research on hardware and software that enables the automated inspection system to operate normally even under the harsh environmental conditions of a ship is absolutely necessary. For automated inspection systems, it is important to review artificial intelligence technologies and equipment that can perform a variety of hull failure detection and classification. To address this, it is important to classify the hull failure. Based on various guidelines and expert opinions, we divided them into 6 types(Crack, Corrosion, Pitting, Deformation, Indent, Others). It was decided to apply object detection technology to cracks of hull failure. After that, YOLOv5 was decided as an artificial intelligence model suitable for survey and a common hull crack dataset was trained. Based on the performance results, it aims to present the possibility of applying artificial intelligence in the field by determining and testing the equipment required for survey.', '2022 개정 교육과정 총론 주요사항에 따라 교육부는 모든 교과 교육을 통해 디지털 기초소양 함양 기반을 마련하겠다고 발표하였다. 이러한 인공지능 교육이 학교 현장에 원활하게 정착되기 위해서 또 학교 현장 속 부족한 정보 교육 시간에 대응하기 위해 교과 교육과의 융합이 필요하다. 한편 인공지능 교육에 있어 데이터는 필수적인 기본 요소이다. 따라서 정보과 교육과정 속 데이터 및 인공지능 교육 내용 요소를 탐색한 선행연구를 바탕으로 교육과정과 인공지능 교육의 융합을 위해 활용할 수 있는 초등학교 교육과정 속 데이터 활용 주제를 탐색하였다. 본 연구의 결과가 인공지능 교육이 학교 교육에 정착하는 데 도움이 될 수 있기를 바란다.', '본 논문에서는 심층학습을 이용한 개체영상의 인공지능 학습데이터 구축을 제안한다. 이를 위해 전이학습의 Mask R-CNN 모델을 이용하여 영상의 개체들을 각각 인스턴스 분할하고, 분할된 개체를 대상으로 경계상자 좌표와 인스턴스를 이용하여 배경을 제거한 개체영역만을 추출한 후 데이터베이스를 구축한다. 여기서 인스턴스 분할은 동일한 클래스 내의 개체들을 분할하기 위함이고, 배경의 제거는 순수 개체영역만으로 구성된 학습데이터를 얻기 위함이다. 제안된 방법을 임의의 크기를 가진 시설작물 RGB 딸기영상 40장과 DermQuest 피부병변 영상 82장을 대상으로 잎과 병변의 개체로 구성된 학습데이터 구축에 적용하여 실험한다. 실험의 결과, 평균 정확도와 평균 재현율에서 우수한 성능을 가진 학습데이터의 구축이 가능함을 알 수 있다. 또한 각 개체의 추출을 자동화함으로써 어노테이션에 소요되는 시간을 크게 줄일 수 있다. 특히 딸기영상의 경우 여러 개의 잎들이 중첩된 경우에도 개체의 분할성능이 우수하여 데이터의 추출이 잘 이루어짐을 확인하였다.\\n\\nIn this paper, we propose the construction of artificial intelligence learning data of object images using deep learning. To this end, each instance of the image objects is segmented using the Mask R-CNN model of transfer learning, and only the object area from which the background has been removed using the bounding box coordinates and instances of the segmented object is constructed, and then the database is built. Here, the instance segmentation is to divide objects within the same class, and the background removal is to obtain learning data composed only of the pure object area. The proposed method is applied to construct learning data composed of leaves and lesions for 40 RGB strawberry images of facility crops and 82 DermQuest skin lesion images with the arbitrary size, respectively. The experiment results show that it is possible to construct training data with excellent performance in average accuracy and average recall. By automating the extraction of each object, the time spent on annotations can be significantly reduced. Especially, in the case of strawberry image, it was confirmed that data extraction was performed well because the segmentation performance of the individual was excellent even when several leaves were overlapped. In this paper, we propose the construction of artificial intelligence learning data of object images using deep learning. To this end, each instance of the image objects is segmented using the Mask R-CNN model of transfer learning, and only the object area from which the background has been removed using the bounding box coordinates and instances of the segmented object is constructed, and then the database is built. Here, the instance segmentation is to divide objects within the same class, and the background removal is to obtain learning data composed only of the pure object area. The proposed method is applied to construct learning data composed of leaves and lesions for 40 RGB strawberry images of facility crops and 82 DermQuest skin lesion images with the arbitrary size, respectively. The experiment results show that it is possible to construct training data with excellent performance in average accuracy and average recall. By automating the extraction of each object, the time spent on annotations can be significantly reduced. Especially, in the case of strawberry image, it was confirmed that data extraction was performed well because the segmentation performance of the individual was excellent even when several leaves were overlapped.', 'This study compares the performance of artificial intelligence (AI)-based maximum power point tracking (MPPT) methods under partial shading conditions in a photovoltaic generation system. Although many studies on AI-based MPPT have been conducted, few studies comparing the tracking performance of various AI-based global MPPT methods seem to exist in the literature. Therefore, this study compares four representative AI-based global MPPT methods including fuzzy logic control (FLC), particle swarm optimization (PSO), grey wolf optimization (GWO), and genetic algorithm (GA). Each method is theoretically analyzed in detail and compared through simulation studies with MATLAB/Simulink under the same conditions. Based on the results of performance comparison, PSO, GWO, and GA successfully tracked the global maximum power point. In particular, the tracking speed of GA was the fastest among the investigated methods under the given conditions.']\n"
     ]
    }
   ],
   "source": [
    "# 상세페이지\n",
    "\n",
    "links = browser.find_elements(By.CLASS_NAME, 'thesis__link') # 링크로 바로 접근\n",
    "link_list = []\n",
    "\n",
    "# 링크 리스트에 담기\n",
    "for i in links:\n",
    "    link = i.get_attribute('href')\n",
    "    link_list.append(link)\n",
    "\n",
    "print(link_list)\n",
    "    \n",
    "txt_list = []\n",
    "\n",
    "# 링크 들어가서 상세정보 끌어오기\n",
    "for link in link_list:\n",
    "    browser.get(link) # 상세페이지 클릭\n",
    "    time.sleep(3)\n",
    "    \n",
    "    try:\n",
    "        txt = browser.find_element(By.CLASS_NAME, 'abstractTxt').text\n",
    "    except:\n",
    "        txt = \"vacant\"\n",
    "    \n",
    "    txt_list.append(txt)\n",
    "\n",
    "print(txt_list)\n",
    "#     browser.back() # 이전 페이지로 돌아가기\n",
    "#     time.sleep(5)\n",
    "    "
   ]
  },
  {
   "cell_type": "code",
   "execution_count": null,
   "id": "63e13fde",
   "metadata": {},
   "outputs": [],
   "source": []
  }
 ],
 "metadata": {
  "kernelspec": {
   "display_name": "Python 3 (ipykernel)",
   "language": "python",
   "name": "python3"
  },
  "language_info": {
   "codemirror_mode": {
    "name": "ipython",
    "version": 3
   },
   "file_extension": ".py",
   "mimetype": "text/x-python",
   "name": "python",
   "nbconvert_exporter": "python",
   "pygments_lexer": "ipython3",
   "version": "3.9.13"
  }
 },
 "nbformat": 4,
 "nbformat_minor": 5
}
