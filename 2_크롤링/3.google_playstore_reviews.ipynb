{
 "cells": [
  {
   "cell_type": "markdown",
   "id": "2d1e2641",
   "metadata": {},
   "source": [
    "## 구글 플레이스토어 댓글 수집기\n",
    "- 내가 검색한 앱의 댓글을 수집합니다.(최소 스크롤 3번을 내립니다.)"
   ]
  },
  {
   "cell_type": "code",
   "execution_count": 1,
   "id": "4276a692",
   "metadata": {},
   "outputs": [],
   "source": [
    "from selenium import webdriver\n",
    "from selenium.webdriver.common.by import By\n",
    "import time "
   ]
  },
  {
   "cell_type": "code",
   "execution_count": 2,
   "id": "4c2fde5e",
   "metadata": {},
   "outputs": [
    {
     "name": "stderr",
     "output_type": "stream",
     "text": [
      "/var/folders/qy/933lc_xn4vvgyp0gdwf0xlb80000gn/T/ipykernel_22978/2977622311.py:2: DeprecationWarning: executable_path has been deprecated, please pass in a Service object\n",
      "  browser = webdriver.Chrome(path)\n"
     ]
    }
   ],
   "source": [
    "path = path =\"/Users/young/Desktop/chromedriver\"\n",
    "browser = webdriver.Chrome(path)"
   ]
  },
  {
   "cell_type": "code",
   "execution_count": 12,
   "id": "4114b2e5",
   "metadata": {},
   "outputs": [
    {
     "name": "stdout",
     "output_type": "stream",
     "text": [
      "검색하고자 하는 앱 이름을 입력하세요.당근마켓\n"
     ]
    }
   ],
   "source": [
    "searh_name = input(\"검색하고자 하는 앱 이름을 입력하세요.\") # 띄어쓰기가 있다면 replace로 공백 지워주면 됨\n",
    "url =\"https://play.google.com/store/search?q={}&c=apps\"\n",
    "\n",
    "# 검색된 이름 창 열기 \n",
    "fin_url = url.format(searh_name)\n",
    "browser.get(fin_url)\n",
    "browser.implicitly_wait(10)\n",
    "\n",
    "# 검색 결과 1번째 결과값 클릭\n",
    "browser.find_element(By.CLASS_NAME,'VfPpkd-WsjYwc').click()\n",
    "time.sleep(5)\n",
    "browser.implicitly_wait(10)\n",
    "\n",
    "# 전체 리뷰 보기\n",
    "browser.find_element(By.XPATH, '//*[@id=\"yDmH0d\"]/c-wiz[3]/div/div/div[1]/div[2]/div/div[1]/c-wiz[4]/section/header/div/div[2]/button').click()"
   ]
  },
  {
   "cell_type": "code",
   "execution_count": 17,
   "id": "ab1fd5fe",
   "metadata": {},
   "outputs": [],
   "source": [
    "# 스크롤 내려서 리뷰 가져오기\n",
    "\n",
    "modal_top = browser.execute_script(window.scrollTo())\n",
    "\n",
    "def doScrollDown(whileScroll):\n",
    "    start = datetime.datetime.now()\n",
    "    end = start + datetime.timedelta(seconds=whileScroll)\n",
    "    while True:\n",
    "        browser.execute_script('window.scrollTo(modal_top, 844);')\n",
    "        reviews = browser.find_elements(By.CLASS_NAME, 'RHo1pe')\n",
    "        print(i.find_element(By.CLASS_NAME, 'h3YV2d').text)\n",
    "        time.sleep(2)\n",
    "\n",
    "        if datetime.datetime.now() > end:\n",
    "            break"
   ]
  },
  {
   "cell_type": "code",
   "execution_count": null,
   "id": "42dc4c88",
   "metadata": {},
   "outputs": [],
   "source": []
  },
  {
   "cell_type": "code",
   "execution_count": null,
   "id": "38791085",
   "metadata": {},
   "outputs": [],
   "source": []
  }
 ],
 "metadata": {
  "kernelspec": {
   "display_name": "Python 3 (ipykernel)",
   "language": "python",
   "name": "python3"
  },
  "language_info": {
   "codemirror_mode": {
    "name": "ipython",
    "version": 3
   },
   "file_extension": ".py",
   "mimetype": "text/x-python",
   "name": "python",
   "nbconvert_exporter": "python",
   "pygments_lexer": "ipython3",
   "version": "3.9.13"
  }
 },
 "nbformat": 4,
 "nbformat_minor": 5
}
