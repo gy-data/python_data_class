{
 "cells": [
  {
   "cell_type": "markdown",
   "id": "5bc85b6d",
   "metadata": {},
   "source": [
    "# 크롤링 기초"
   ]
  },
  {
   "cell_type": "code",
   "execution_count": 1,
   "id": "a7d8ed9a",
   "metadata": {
    "scrolled": false
   },
   "outputs": [
    {
     "name": "stdout",
     "output_type": "stream",
     "text": [
      "Requirement already satisfied: selenium in /Users/young/opt/anaconda3/lib/python3.9/site-packages (4.5.0)\n",
      "Requirement already satisfied: urllib3[socks]~=1.26 in /Users/young/opt/anaconda3/lib/python3.9/site-packages (from selenium) (1.26.11)\n",
      "Requirement already satisfied: certifi>=2021.10.8 in /Users/young/opt/anaconda3/lib/python3.9/site-packages (from selenium) (2022.9.24)\n",
      "Requirement already satisfied: trio-websocket~=0.9 in /Users/young/opt/anaconda3/lib/python3.9/site-packages (from selenium) (0.9.2)\n",
      "Requirement already satisfied: trio~=0.17 in /Users/young/opt/anaconda3/lib/python3.9/site-packages (from selenium) (0.22.0)\n",
      "Requirement already satisfied: idna in /Users/young/opt/anaconda3/lib/python3.9/site-packages (from trio~=0.17->selenium) (3.3)\n",
      "Requirement already satisfied: attrs>=19.2.0 in /Users/young/opt/anaconda3/lib/python3.9/site-packages (from trio~=0.17->selenium) (21.4.0)\n",
      "Requirement already satisfied: outcome in /Users/young/opt/anaconda3/lib/python3.9/site-packages (from trio~=0.17->selenium) (1.2.0)\n",
      "Requirement already satisfied: sortedcontainers in /Users/young/opt/anaconda3/lib/python3.9/site-packages (from trio~=0.17->selenium) (2.4.0)\n",
      "Requirement already satisfied: async-generator>=1.9 in /Users/young/opt/anaconda3/lib/python3.9/site-packages (from trio~=0.17->selenium) (1.10)\n",
      "Requirement already satisfied: exceptiongroup>=1.0.0rc9 in /Users/young/opt/anaconda3/lib/python3.9/site-packages (from trio~=0.17->selenium) (1.0.0rc9)\n",
      "Requirement already satisfied: sniffio in /Users/young/opt/anaconda3/lib/python3.9/site-packages (from trio~=0.17->selenium) (1.2.0)\n",
      "Requirement already satisfied: wsproto>=0.14 in /Users/young/opt/anaconda3/lib/python3.9/site-packages (from trio-websocket~=0.9->selenium) (1.2.0)\n",
      "Requirement already satisfied: PySocks!=1.5.7,<2.0,>=1.5.6 in /Users/young/opt/anaconda3/lib/python3.9/site-packages (from urllib3[socks]~=1.26->selenium) (1.7.1)\n",
      "Requirement already satisfied: h11<1,>=0.9.0 in /Users/young/opt/anaconda3/lib/python3.9/site-packages (from wsproto>=0.14->trio-websocket~=0.9->selenium) (0.14.0)\n",
      "Note: you may need to restart the kernel to use updated packages.\n"
     ]
    }
   ],
   "source": [
    "pip install selenium"
   ]
  },
  {
   "cell_type": "code",
   "execution_count": 2,
   "id": "c2bb04dd",
   "metadata": {},
   "outputs": [],
   "source": [
    "from selenium import webdriver"
   ]
  },
  {
   "cell_type": "code",
   "execution_count": 3,
   "id": "a4c26b92",
   "metadata": {},
   "outputs": [
    {
     "name": "stderr",
     "output_type": "stream",
     "text": [
      "/var/folders/qy/933lc_xn4vvgyp0gdwf0xlb80000gn/T/ipykernel_20321/2259923879.py:2: DeprecationWarning: executable_path has been deprecated, please pass in a Service object\n",
      "  browser = webdriver.Chrome(path)\n"
     ]
    }
   ],
   "source": [
    "path = '/Users/young/Desktop/chromedriver'\n",
    "browser = webdriver.Chrome(path)"
   ]
  },
  {
   "cell_type": "code",
   "execution_count": 4,
   "id": "e9bf0f17",
   "metadata": {},
   "outputs": [],
   "source": [
    "browser.get(\"http://www.naver.com\")"
   ]
  },
  {
   "cell_type": "code",
   "execution_count": 5,
   "id": "8cff0812",
   "metadata": {},
   "outputs": [],
   "source": [
    "browser.get(\"https://search.naver.com/search.naver?where=nexearch&sm=top_hty&fbm=1&ie=utf8&query=%EB%82%A0%EC%94%A8\")"
   ]
  },
  {
   "cell_type": "code",
   "execution_count": 6,
   "id": "73a26755",
   "metadata": {},
   "outputs": [],
   "source": [
    "from selenium.webdriver.common.by import By"
   ]
  },
  {
   "cell_type": "code",
   "execution_count": 7,
   "id": "f730238e",
   "metadata": {
    "scrolled": true
   },
   "outputs": [
    {
     "ename": "ElementNotInteractableException",
     "evalue": "Message: element not interactable\n  (Session info: chrome=107.0.5304.62)\nStacktrace:\n0   chromedriver                        0x000000010b033598 chromedriver + 4404632\n1   chromedriver                        0x000000010afbafa3 chromedriver + 3911587\n2   chromedriver                        0x000000010ac67d20 chromedriver + 425248\n3   chromedriver                        0x000000010aca0e30 chromedriver + 658992\n4   chromedriver                        0x000000010ac94c51 chromedriver + 609361\n5   chromedriver                        0x000000010acbdda2 chromedriver + 777634\n6   chromedriver                        0x000000010ac94465 chromedriver + 607333\n7   chromedriver                        0x000000010acbdefe chromedriver + 777982\n8   chromedriver                        0x000000010acd4f79 chromedriver + 872313\n9   chromedriver                        0x000000010acbdbd3 chromedriver + 777171\n10  chromedriver                        0x000000010ac92ced chromedriver + 601325\n11  chromedriver                        0x000000010ac93e51 chromedriver + 605777\n12  chromedriver                        0x000000010b0030ce chromedriver + 4206798\n13  chromedriver                        0x000000010b007797 chromedriver + 4224919\n14  chromedriver                        0x000000010b00ea4f chromedriver + 4254287\n15  chromedriver                        0x000000010b0084da chromedriver + 4228314\n16  chromedriver                        0x000000010afe123f chromedriver + 4067903\n17  chromedriver                        0x000000010b0256a8 chromedriver + 4347560\n18  chromedriver                        0x000000010b025816 chromedriver + 4347926\n19  chromedriver                        0x000000010b03a8fe chromedriver + 4434174\n20  libsystem_pthread.dylib             0x00007ff81d36f4e1 _pthread_start + 125\n21  libsystem_pthread.dylib             0x00007ff81d36af6b thread_start + 15\n",
     "output_type": "error",
     "traceback": [
      "\u001b[0;31m---------------------------------------------------------------------------\u001b[0m",
      "\u001b[0;31mElementNotInteractableException\u001b[0m           Traceback (most recent call last)",
      "\u001b[0;32m/var/folders/qy/933lc_xn4vvgyp0gdwf0xlb80000gn/T/ipykernel_20321/759793527.py\u001b[0m in \u001b[0;36m<module>\u001b[0;34m\u001b[0m\n\u001b[0;32m----> 1\u001b[0;31m \u001b[0mbrowser\u001b[0m\u001b[0;34m.\u001b[0m\u001b[0mfind_element\u001b[0m\u001b[0;34m(\u001b[0m\u001b[0mBy\u001b[0m\u001b[0;34m.\u001b[0m\u001b[0mID\u001b[0m\u001b[0;34m,\u001b[0m \u001b[0;34m'query'\u001b[0m\u001b[0;34m)\u001b[0m\u001b[0;34m.\u001b[0m\u001b[0mclick\u001b[0m\u001b[0;34m(\u001b[0m\u001b[0;34m)\u001b[0m\u001b[0;34m\u001b[0m\u001b[0;34m\u001b[0m\u001b[0m\n\u001b[0m",
      "\u001b[0;32m~/opt/anaconda3/lib/python3.9/site-packages/selenium/webdriver/remote/webelement.py\u001b[0m in \u001b[0;36mclick\u001b[0;34m(self)\u001b[0m\n\u001b[1;32m     86\u001b[0m     \u001b[0;32mdef\u001b[0m \u001b[0mclick\u001b[0m\u001b[0;34m(\u001b[0m\u001b[0mself\u001b[0m\u001b[0;34m)\u001b[0m \u001b[0;34m->\u001b[0m \u001b[0;32mNone\u001b[0m\u001b[0;34m:\u001b[0m\u001b[0;34m\u001b[0m\u001b[0;34m\u001b[0m\u001b[0m\n\u001b[1;32m     87\u001b[0m         \u001b[0;34m\"\"\"Clicks the element.\"\"\"\u001b[0m\u001b[0;34m\u001b[0m\u001b[0;34m\u001b[0m\u001b[0m\n\u001b[0;32m---> 88\u001b[0;31m         \u001b[0mself\u001b[0m\u001b[0;34m.\u001b[0m\u001b[0m_execute\u001b[0m\u001b[0;34m(\u001b[0m\u001b[0mCommand\u001b[0m\u001b[0;34m.\u001b[0m\u001b[0mCLICK_ELEMENT\u001b[0m\u001b[0;34m)\u001b[0m\u001b[0;34m\u001b[0m\u001b[0;34m\u001b[0m\u001b[0m\n\u001b[0m\u001b[1;32m     89\u001b[0m \u001b[0;34m\u001b[0m\u001b[0m\n\u001b[1;32m     90\u001b[0m     \u001b[0;32mdef\u001b[0m \u001b[0msubmit\u001b[0m\u001b[0;34m(\u001b[0m\u001b[0mself\u001b[0m\u001b[0;34m)\u001b[0m\u001b[0;34m:\u001b[0m\u001b[0;34m\u001b[0m\u001b[0;34m\u001b[0m\u001b[0m\n",
      "\u001b[0;32m~/opt/anaconda3/lib/python3.9/site-packages/selenium/webdriver/remote/webelement.py\u001b[0m in \u001b[0;36m_execute\u001b[0;34m(self, command, params)\u001b[0m\n\u001b[1;32m    394\u001b[0m             \u001b[0mparams\u001b[0m \u001b[0;34m=\u001b[0m \u001b[0;34m{\u001b[0m\u001b[0;34m}\u001b[0m\u001b[0;34m\u001b[0m\u001b[0;34m\u001b[0m\u001b[0m\n\u001b[1;32m    395\u001b[0m         \u001b[0mparams\u001b[0m\u001b[0;34m[\u001b[0m\u001b[0;34m'id'\u001b[0m\u001b[0;34m]\u001b[0m \u001b[0;34m=\u001b[0m \u001b[0mself\u001b[0m\u001b[0;34m.\u001b[0m\u001b[0m_id\u001b[0m\u001b[0;34m\u001b[0m\u001b[0;34m\u001b[0m\u001b[0m\n\u001b[0;32m--> 396\u001b[0;31m         \u001b[0;32mreturn\u001b[0m \u001b[0mself\u001b[0m\u001b[0;34m.\u001b[0m\u001b[0m_parent\u001b[0m\u001b[0;34m.\u001b[0m\u001b[0mexecute\u001b[0m\u001b[0;34m(\u001b[0m\u001b[0mcommand\u001b[0m\u001b[0;34m,\u001b[0m \u001b[0mparams\u001b[0m\u001b[0;34m)\u001b[0m\u001b[0;34m\u001b[0m\u001b[0;34m\u001b[0m\u001b[0m\n\u001b[0m\u001b[1;32m    397\u001b[0m \u001b[0;34m\u001b[0m\u001b[0m\n\u001b[1;32m    398\u001b[0m     \u001b[0;32mdef\u001b[0m \u001b[0mfind_element\u001b[0m\u001b[0;34m(\u001b[0m\u001b[0mself\u001b[0m\u001b[0;34m,\u001b[0m \u001b[0mby\u001b[0m\u001b[0;34m=\u001b[0m\u001b[0mBy\u001b[0m\u001b[0;34m.\u001b[0m\u001b[0mID\u001b[0m\u001b[0;34m,\u001b[0m \u001b[0mvalue\u001b[0m\u001b[0;34m=\u001b[0m\u001b[0;32mNone\u001b[0m\u001b[0;34m)\u001b[0m \u001b[0;34m->\u001b[0m \u001b[0mWebElement\u001b[0m\u001b[0;34m:\u001b[0m\u001b[0;34m\u001b[0m\u001b[0;34m\u001b[0m\u001b[0m\n",
      "\u001b[0;32m~/opt/anaconda3/lib/python3.9/site-packages/selenium/webdriver/remote/webdriver.py\u001b[0m in \u001b[0;36mexecute\u001b[0;34m(self, driver_command, params)\u001b[0m\n\u001b[1;32m    427\u001b[0m         \u001b[0mresponse\u001b[0m \u001b[0;34m=\u001b[0m \u001b[0mself\u001b[0m\u001b[0;34m.\u001b[0m\u001b[0mcommand_executor\u001b[0m\u001b[0;34m.\u001b[0m\u001b[0mexecute\u001b[0m\u001b[0;34m(\u001b[0m\u001b[0mdriver_command\u001b[0m\u001b[0;34m,\u001b[0m \u001b[0mparams\u001b[0m\u001b[0;34m)\u001b[0m\u001b[0;34m\u001b[0m\u001b[0;34m\u001b[0m\u001b[0m\n\u001b[1;32m    428\u001b[0m         \u001b[0;32mif\u001b[0m \u001b[0mresponse\u001b[0m\u001b[0;34m:\u001b[0m\u001b[0;34m\u001b[0m\u001b[0;34m\u001b[0m\u001b[0m\n\u001b[0;32m--> 429\u001b[0;31m             \u001b[0mself\u001b[0m\u001b[0;34m.\u001b[0m\u001b[0merror_handler\u001b[0m\u001b[0;34m.\u001b[0m\u001b[0mcheck_response\u001b[0m\u001b[0;34m(\u001b[0m\u001b[0mresponse\u001b[0m\u001b[0;34m)\u001b[0m\u001b[0;34m\u001b[0m\u001b[0;34m\u001b[0m\u001b[0m\n\u001b[0m\u001b[1;32m    430\u001b[0m             response['value'] = self._unwrap_value(\n\u001b[1;32m    431\u001b[0m                 response.get('value', None))\n",
      "\u001b[0;32m~/opt/anaconda3/lib/python3.9/site-packages/selenium/webdriver/remote/errorhandler.py\u001b[0m in \u001b[0;36mcheck_response\u001b[0;34m(self, response)\u001b[0m\n\u001b[1;32m    241\u001b[0m                 \u001b[0malert_text\u001b[0m \u001b[0;34m=\u001b[0m \u001b[0mvalue\u001b[0m\u001b[0;34m[\u001b[0m\u001b[0;34m'alert'\u001b[0m\u001b[0;34m]\u001b[0m\u001b[0;34m.\u001b[0m\u001b[0mget\u001b[0m\u001b[0;34m(\u001b[0m\u001b[0;34m'text'\u001b[0m\u001b[0;34m)\u001b[0m\u001b[0;34m\u001b[0m\u001b[0;34m\u001b[0m\u001b[0m\n\u001b[1;32m    242\u001b[0m             \u001b[0;32mraise\u001b[0m \u001b[0mexception_class\u001b[0m\u001b[0;34m(\u001b[0m\u001b[0mmessage\u001b[0m\u001b[0;34m,\u001b[0m \u001b[0mscreen\u001b[0m\u001b[0;34m,\u001b[0m \u001b[0mstacktrace\u001b[0m\u001b[0;34m,\u001b[0m \u001b[0malert_text\u001b[0m\u001b[0;34m)\u001b[0m  \u001b[0;31m# type: ignore[call-arg]  # mypy is not smart enough here\u001b[0m\u001b[0;34m\u001b[0m\u001b[0;34m\u001b[0m\u001b[0m\n\u001b[0;32m--> 243\u001b[0;31m         \u001b[0;32mraise\u001b[0m \u001b[0mexception_class\u001b[0m\u001b[0;34m(\u001b[0m\u001b[0mmessage\u001b[0m\u001b[0;34m,\u001b[0m \u001b[0mscreen\u001b[0m\u001b[0;34m,\u001b[0m \u001b[0mstacktrace\u001b[0m\u001b[0;34m)\u001b[0m\u001b[0;34m\u001b[0m\u001b[0;34m\u001b[0m\u001b[0m\n\u001b[0m",
      "\u001b[0;31mElementNotInteractableException\u001b[0m: Message: element not interactable\n  (Session info: chrome=107.0.5304.62)\nStacktrace:\n0   chromedriver                        0x000000010b033598 chromedriver + 4404632\n1   chromedriver                        0x000000010afbafa3 chromedriver + 3911587\n2   chromedriver                        0x000000010ac67d20 chromedriver + 425248\n3   chromedriver                        0x000000010aca0e30 chromedriver + 658992\n4   chromedriver                        0x000000010ac94c51 chromedriver + 609361\n5   chromedriver                        0x000000010acbdda2 chromedriver + 777634\n6   chromedriver                        0x000000010ac94465 chromedriver + 607333\n7   chromedriver                        0x000000010acbdefe chromedriver + 777982\n8   chromedriver                        0x000000010acd4f79 chromedriver + 872313\n9   chromedriver                        0x000000010acbdbd3 chromedriver + 777171\n10  chromedriver                        0x000000010ac92ced chromedriver + 601325\n11  chromedriver                        0x000000010ac93e51 chromedriver + 605777\n12  chromedriver                        0x000000010b0030ce chromedriver + 4206798\n13  chromedriver                        0x000000010b007797 chromedriver + 4224919\n14  chromedriver                        0x000000010b00ea4f chromedriver + 4254287\n15  chromedriver                        0x000000010b0084da chromedriver + 4228314\n16  chromedriver                        0x000000010afe123f chromedriver + 4067903\n17  chromedriver                        0x000000010b0256a8 chromedriver + 4347560\n18  chromedriver                        0x000000010b025816 chromedriver + 4347926\n19  chromedriver                        0x000000010b03a8fe chromedriver + 4434174\n20  libsystem_pthread.dylib             0x00007ff81d36f4e1 _pthread_start + 125\n21  libsystem_pthread.dylib             0x00007ff81d36af6b thread_start + 15\n"
     ]
    }
   ],
   "source": [
    "browser.find_element(By.ID, 'query').click()"
   ]
  },
  {
   "cell_type": "code",
   "execution_count": 8,
   "id": "1f8dd49a",
   "metadata": {},
   "outputs": [
    {
     "ename": "ElementNotInteractableException",
     "evalue": "Message: element not interactable\n  (Session info: chrome=107.0.5304.62)\nStacktrace:\n0   chromedriver                        0x000000010b033598 chromedriver + 4404632\n1   chromedriver                        0x000000010afbafa3 chromedriver + 3911587\n2   chromedriver                        0x000000010ac67d20 chromedriver + 425248\n3   chromedriver                        0x000000010ac99e5f chromedriver + 630367\n4   chromedriver                        0x000000010ac99402 chromedriver + 627714\n5   chromedriver                        0x000000010acbdda2 chromedriver + 777634\n6   chromedriver                        0x000000010ac94465 chromedriver + 607333\n7   chromedriver                        0x000000010acbdefe chromedriver + 777982\n8   chromedriver                        0x000000010acd4f79 chromedriver + 872313\n9   chromedriver                        0x000000010acbdbd3 chromedriver + 777171\n10  chromedriver                        0x000000010ac92ced chromedriver + 601325\n11  chromedriver                        0x000000010ac93e51 chromedriver + 605777\n12  chromedriver                        0x000000010b0030ce chromedriver + 4206798\n13  chromedriver                        0x000000010b007797 chromedriver + 4224919\n14  chromedriver                        0x000000010b00ea4f chromedriver + 4254287\n15  chromedriver                        0x000000010b0084da chromedriver + 4228314\n16  chromedriver                        0x000000010afe123f chromedriver + 4067903\n17  chromedriver                        0x000000010b0256a8 chromedriver + 4347560\n18  chromedriver                        0x000000010b025816 chromedriver + 4347926\n19  chromedriver                        0x000000010b03a8fe chromedriver + 4434174\n20  libsystem_pthread.dylib             0x00007ff81d36f4e1 _pthread_start + 125\n21  libsystem_pthread.dylib             0x00007ff81d36af6b thread_start + 15\n",
     "output_type": "error",
     "traceback": [
      "\u001b[0;31m---------------------------------------------------------------------------\u001b[0m",
      "\u001b[0;31mElementNotInteractableException\u001b[0m           Traceback (most recent call last)",
      "\u001b[0;32m/var/folders/qy/933lc_xn4vvgyp0gdwf0xlb80000gn/T/ipykernel_20321/199600746.py\u001b[0m in \u001b[0;36m<module>\u001b[0;34m\u001b[0m\n\u001b[0;32m----> 1\u001b[0;31m \u001b[0mbrowser\u001b[0m\u001b[0;34m.\u001b[0m\u001b[0mfind_element\u001b[0m\u001b[0;34m(\u001b[0m\u001b[0mBy\u001b[0m\u001b[0;34m.\u001b[0m\u001b[0mID\u001b[0m\u001b[0;34m,\u001b[0m\u001b[0;34m'query'\u001b[0m\u001b[0;34m)\u001b[0m\u001b[0;34m.\u001b[0m\u001b[0msend_keys\u001b[0m\u001b[0;34m(\u001b[0m\u001b[0;34m\"날씨\"\u001b[0m\u001b[0;34m)\u001b[0m\u001b[0;34m\u001b[0m\u001b[0;34m\u001b[0m\u001b[0m\n\u001b[0m",
      "\u001b[0;32m~/opt/anaconda3/lib/python3.9/site-packages/selenium/webdriver/remote/webelement.py\u001b[0m in \u001b[0;36msend_keys\u001b[0;34m(self, *value)\u001b[0m\n\u001b[1;32m    221\u001b[0m                 \u001b[0mvalue\u001b[0m \u001b[0;34m=\u001b[0m \u001b[0;34m'\\n'\u001b[0m\u001b[0;34m.\u001b[0m\u001b[0mjoin\u001b[0m\u001b[0;34m(\u001b[0m\u001b[0mremote_files\u001b[0m\u001b[0;34m)\u001b[0m\u001b[0;34m\u001b[0m\u001b[0;34m\u001b[0m\u001b[0m\n\u001b[1;32m    222\u001b[0m \u001b[0;34m\u001b[0m\u001b[0m\n\u001b[0;32m--> 223\u001b[0;31m         self._execute(Command.SEND_KEYS_TO_ELEMENT,\n\u001b[0m\u001b[1;32m    224\u001b[0m                       {'text': \"\".join(keys_to_typing(value)),\n\u001b[1;32m    225\u001b[0m                        'value': keys_to_typing(value)})\n",
      "\u001b[0;32m~/opt/anaconda3/lib/python3.9/site-packages/selenium/webdriver/remote/webelement.py\u001b[0m in \u001b[0;36m_execute\u001b[0;34m(self, command, params)\u001b[0m\n\u001b[1;32m    394\u001b[0m             \u001b[0mparams\u001b[0m \u001b[0;34m=\u001b[0m \u001b[0;34m{\u001b[0m\u001b[0;34m}\u001b[0m\u001b[0;34m\u001b[0m\u001b[0;34m\u001b[0m\u001b[0m\n\u001b[1;32m    395\u001b[0m         \u001b[0mparams\u001b[0m\u001b[0;34m[\u001b[0m\u001b[0;34m'id'\u001b[0m\u001b[0;34m]\u001b[0m \u001b[0;34m=\u001b[0m \u001b[0mself\u001b[0m\u001b[0;34m.\u001b[0m\u001b[0m_id\u001b[0m\u001b[0;34m\u001b[0m\u001b[0;34m\u001b[0m\u001b[0m\n\u001b[0;32m--> 396\u001b[0;31m         \u001b[0;32mreturn\u001b[0m \u001b[0mself\u001b[0m\u001b[0;34m.\u001b[0m\u001b[0m_parent\u001b[0m\u001b[0;34m.\u001b[0m\u001b[0mexecute\u001b[0m\u001b[0;34m(\u001b[0m\u001b[0mcommand\u001b[0m\u001b[0;34m,\u001b[0m \u001b[0mparams\u001b[0m\u001b[0;34m)\u001b[0m\u001b[0;34m\u001b[0m\u001b[0;34m\u001b[0m\u001b[0m\n\u001b[0m\u001b[1;32m    397\u001b[0m \u001b[0;34m\u001b[0m\u001b[0m\n\u001b[1;32m    398\u001b[0m     \u001b[0;32mdef\u001b[0m \u001b[0mfind_element\u001b[0m\u001b[0;34m(\u001b[0m\u001b[0mself\u001b[0m\u001b[0;34m,\u001b[0m \u001b[0mby\u001b[0m\u001b[0;34m=\u001b[0m\u001b[0mBy\u001b[0m\u001b[0;34m.\u001b[0m\u001b[0mID\u001b[0m\u001b[0;34m,\u001b[0m \u001b[0mvalue\u001b[0m\u001b[0;34m=\u001b[0m\u001b[0;32mNone\u001b[0m\u001b[0;34m)\u001b[0m \u001b[0;34m->\u001b[0m \u001b[0mWebElement\u001b[0m\u001b[0;34m:\u001b[0m\u001b[0;34m\u001b[0m\u001b[0;34m\u001b[0m\u001b[0m\n",
      "\u001b[0;32m~/opt/anaconda3/lib/python3.9/site-packages/selenium/webdriver/remote/webdriver.py\u001b[0m in \u001b[0;36mexecute\u001b[0;34m(self, driver_command, params)\u001b[0m\n\u001b[1;32m    427\u001b[0m         \u001b[0mresponse\u001b[0m \u001b[0;34m=\u001b[0m \u001b[0mself\u001b[0m\u001b[0;34m.\u001b[0m\u001b[0mcommand_executor\u001b[0m\u001b[0;34m.\u001b[0m\u001b[0mexecute\u001b[0m\u001b[0;34m(\u001b[0m\u001b[0mdriver_command\u001b[0m\u001b[0;34m,\u001b[0m \u001b[0mparams\u001b[0m\u001b[0;34m)\u001b[0m\u001b[0;34m\u001b[0m\u001b[0;34m\u001b[0m\u001b[0m\n\u001b[1;32m    428\u001b[0m         \u001b[0;32mif\u001b[0m \u001b[0mresponse\u001b[0m\u001b[0;34m:\u001b[0m\u001b[0;34m\u001b[0m\u001b[0;34m\u001b[0m\u001b[0m\n\u001b[0;32m--> 429\u001b[0;31m             \u001b[0mself\u001b[0m\u001b[0;34m.\u001b[0m\u001b[0merror_handler\u001b[0m\u001b[0;34m.\u001b[0m\u001b[0mcheck_response\u001b[0m\u001b[0;34m(\u001b[0m\u001b[0mresponse\u001b[0m\u001b[0;34m)\u001b[0m\u001b[0;34m\u001b[0m\u001b[0;34m\u001b[0m\u001b[0m\n\u001b[0m\u001b[1;32m    430\u001b[0m             response['value'] = self._unwrap_value(\n\u001b[1;32m    431\u001b[0m                 response.get('value', None))\n",
      "\u001b[0;32m~/opt/anaconda3/lib/python3.9/site-packages/selenium/webdriver/remote/errorhandler.py\u001b[0m in \u001b[0;36mcheck_response\u001b[0;34m(self, response)\u001b[0m\n\u001b[1;32m    241\u001b[0m                 \u001b[0malert_text\u001b[0m \u001b[0;34m=\u001b[0m \u001b[0mvalue\u001b[0m\u001b[0;34m[\u001b[0m\u001b[0;34m'alert'\u001b[0m\u001b[0;34m]\u001b[0m\u001b[0;34m.\u001b[0m\u001b[0mget\u001b[0m\u001b[0;34m(\u001b[0m\u001b[0;34m'text'\u001b[0m\u001b[0;34m)\u001b[0m\u001b[0;34m\u001b[0m\u001b[0;34m\u001b[0m\u001b[0m\n\u001b[1;32m    242\u001b[0m             \u001b[0;32mraise\u001b[0m \u001b[0mexception_class\u001b[0m\u001b[0;34m(\u001b[0m\u001b[0mmessage\u001b[0m\u001b[0;34m,\u001b[0m \u001b[0mscreen\u001b[0m\u001b[0;34m,\u001b[0m \u001b[0mstacktrace\u001b[0m\u001b[0;34m,\u001b[0m \u001b[0malert_text\u001b[0m\u001b[0;34m)\u001b[0m  \u001b[0;31m# type: ignore[call-arg]  # mypy is not smart enough here\u001b[0m\u001b[0;34m\u001b[0m\u001b[0;34m\u001b[0m\u001b[0m\n\u001b[0;32m--> 243\u001b[0;31m         \u001b[0;32mraise\u001b[0m \u001b[0mexception_class\u001b[0m\u001b[0;34m(\u001b[0m\u001b[0mmessage\u001b[0m\u001b[0;34m,\u001b[0m \u001b[0mscreen\u001b[0m\u001b[0;34m,\u001b[0m \u001b[0mstacktrace\u001b[0m\u001b[0;34m)\u001b[0m\u001b[0;34m\u001b[0m\u001b[0;34m\u001b[0m\u001b[0m\n\u001b[0m",
      "\u001b[0;31mElementNotInteractableException\u001b[0m: Message: element not interactable\n  (Session info: chrome=107.0.5304.62)\nStacktrace:\n0   chromedriver                        0x000000010b033598 chromedriver + 4404632\n1   chromedriver                        0x000000010afbafa3 chromedriver + 3911587\n2   chromedriver                        0x000000010ac67d20 chromedriver + 425248\n3   chromedriver                        0x000000010ac99e5f chromedriver + 630367\n4   chromedriver                        0x000000010ac99402 chromedriver + 627714\n5   chromedriver                        0x000000010acbdda2 chromedriver + 777634\n6   chromedriver                        0x000000010ac94465 chromedriver + 607333\n7   chromedriver                        0x000000010acbdefe chromedriver + 777982\n8   chromedriver                        0x000000010acd4f79 chromedriver + 872313\n9   chromedriver                        0x000000010acbdbd3 chromedriver + 777171\n10  chromedriver                        0x000000010ac92ced chromedriver + 601325\n11  chromedriver                        0x000000010ac93e51 chromedriver + 605777\n12  chromedriver                        0x000000010b0030ce chromedriver + 4206798\n13  chromedriver                        0x000000010b007797 chromedriver + 4224919\n14  chromedriver                        0x000000010b00ea4f chromedriver + 4254287\n15  chromedriver                        0x000000010b0084da chromedriver + 4228314\n16  chromedriver                        0x000000010afe123f chromedriver + 4067903\n17  chromedriver                        0x000000010b0256a8 chromedriver + 4347560\n18  chromedriver                        0x000000010b025816 chromedriver + 4347926\n19  chromedriver                        0x000000010b03a8fe chromedriver + 4434174\n20  libsystem_pthread.dylib             0x00007ff81d36f4e1 _pthread_start + 125\n21  libsystem_pthread.dylib             0x00007ff81d36af6b thread_start + 15\n"
     ]
    }
   ],
   "source": [
    "browser.find_element(By.ID,'query').send_keys(\"날씨\")"
   ]
  },
  {
   "cell_type": "code",
   "execution_count": 11,
   "id": "8e33f605",
   "metadata": {},
   "outputs": [
    {
     "ename": "NoSuchElementException",
     "evalue": "Message: no such element: Unable to locate element: {\"method\":\"css selector\",\"selector\":\"[id=\"search_btn\"]\"}\n  (Session info: chrome=107.0.5304.62)\nStacktrace:\n0   chromedriver                        0x000000010b033598 chromedriver + 4404632\n1   chromedriver                        0x000000010afbafa3 chromedriver + 3911587\n2   chromedriver                        0x000000010ac67e6a chromedriver + 425578\n3   chromedriver                        0x000000010ac9fc91 chromedriver + 654481\n4   chromedriver                        0x000000010ac9fe91 chromedriver + 654993\n5   chromedriver                        0x000000010acd7274 chromedriver + 881268\n6   chromedriver                        0x000000010acbddcd chromedriver + 777677\n7   chromedriver                        0x000000010acd4f79 chromedriver + 872313\n8   chromedriver                        0x000000010acbdbd3 chromedriver + 777171\n9   chromedriver                        0x000000010ac92ced chromedriver + 601325\n10  chromedriver                        0x000000010ac93e51 chromedriver + 605777\n11  chromedriver                        0x000000010b0030ce chromedriver + 4206798\n12  chromedriver                        0x000000010b007797 chromedriver + 4224919\n13  chromedriver                        0x000000010b00ea4f chromedriver + 4254287\n14  chromedriver                        0x000000010b0084da chromedriver + 4228314\n15  chromedriver                        0x000000010afe123f chromedriver + 4067903\n16  chromedriver                        0x000000010b0256a8 chromedriver + 4347560\n17  chromedriver                        0x000000010b025816 chromedriver + 4347926\n18  chromedriver                        0x000000010b03a8fe chromedriver + 4434174\n19  libsystem_pthread.dylib             0x00007ff81d36f4e1 _pthread_start + 125\n20  libsystem_pthread.dylib             0x00007ff81d36af6b thread_start + 15\n",
     "output_type": "error",
     "traceback": [
      "\u001b[0;31m---------------------------------------------------------------------------\u001b[0m",
      "\u001b[0;31mNoSuchElementException\u001b[0m                    Traceback (most recent call last)",
      "\u001b[0;32m/var/folders/qy/933lc_xn4vvgyp0gdwf0xlb80000gn/T/ipykernel_20321/2184224526.py\u001b[0m in \u001b[0;36m<module>\u001b[0;34m\u001b[0m\n\u001b[0;32m----> 1\u001b[0;31m \u001b[0mbrowser\u001b[0m\u001b[0;34m.\u001b[0m\u001b[0mfind_element\u001b[0m\u001b[0;34m(\u001b[0m\u001b[0mBy\u001b[0m\u001b[0;34m.\u001b[0m\u001b[0mID\u001b[0m\u001b[0;34m,\u001b[0m\u001b[0;34m'search_btn'\u001b[0m\u001b[0;34m)\u001b[0m\u001b[0;34m.\u001b[0m\u001b[0mclick\u001b[0m\u001b[0;34m(\u001b[0m\u001b[0;34m)\u001b[0m\u001b[0;34m\u001b[0m\u001b[0;34m\u001b[0m\u001b[0m\n\u001b[0m",
      "\u001b[0;32m~/opt/anaconda3/lib/python3.9/site-packages/selenium/webdriver/remote/webdriver.py\u001b[0m in \u001b[0;36mfind_element\u001b[0;34m(self, by, value)\u001b[0m\n\u001b[1;32m    854\u001b[0m             \u001b[0mvalue\u001b[0m \u001b[0;34m=\u001b[0m \u001b[0;34m'[name=\"%s\"]'\u001b[0m \u001b[0;34m%\u001b[0m \u001b[0mvalue\u001b[0m\u001b[0;34m\u001b[0m\u001b[0;34m\u001b[0m\u001b[0m\n\u001b[1;32m    855\u001b[0m \u001b[0;34m\u001b[0m\u001b[0m\n\u001b[0;32m--> 856\u001b[0;31m         return self.execute(Command.FIND_ELEMENT, {\n\u001b[0m\u001b[1;32m    857\u001b[0m             \u001b[0;34m'using'\u001b[0m\u001b[0;34m:\u001b[0m \u001b[0mby\u001b[0m\u001b[0;34m,\u001b[0m\u001b[0;34m\u001b[0m\u001b[0;34m\u001b[0m\u001b[0m\n\u001b[1;32m    858\u001b[0m             'value': value})['value']\n",
      "\u001b[0;32m~/opt/anaconda3/lib/python3.9/site-packages/selenium/webdriver/remote/webdriver.py\u001b[0m in \u001b[0;36mexecute\u001b[0;34m(self, driver_command, params)\u001b[0m\n\u001b[1;32m    427\u001b[0m         \u001b[0mresponse\u001b[0m \u001b[0;34m=\u001b[0m \u001b[0mself\u001b[0m\u001b[0;34m.\u001b[0m\u001b[0mcommand_executor\u001b[0m\u001b[0;34m.\u001b[0m\u001b[0mexecute\u001b[0m\u001b[0;34m(\u001b[0m\u001b[0mdriver_command\u001b[0m\u001b[0;34m,\u001b[0m \u001b[0mparams\u001b[0m\u001b[0;34m)\u001b[0m\u001b[0;34m\u001b[0m\u001b[0;34m\u001b[0m\u001b[0m\n\u001b[1;32m    428\u001b[0m         \u001b[0;32mif\u001b[0m \u001b[0mresponse\u001b[0m\u001b[0;34m:\u001b[0m\u001b[0;34m\u001b[0m\u001b[0;34m\u001b[0m\u001b[0m\n\u001b[0;32m--> 429\u001b[0;31m             \u001b[0mself\u001b[0m\u001b[0;34m.\u001b[0m\u001b[0merror_handler\u001b[0m\u001b[0;34m.\u001b[0m\u001b[0mcheck_response\u001b[0m\u001b[0;34m(\u001b[0m\u001b[0mresponse\u001b[0m\u001b[0;34m)\u001b[0m\u001b[0;34m\u001b[0m\u001b[0;34m\u001b[0m\u001b[0m\n\u001b[0m\u001b[1;32m    430\u001b[0m             response['value'] = self._unwrap_value(\n\u001b[1;32m    431\u001b[0m                 response.get('value', None))\n",
      "\u001b[0;32m~/opt/anaconda3/lib/python3.9/site-packages/selenium/webdriver/remote/errorhandler.py\u001b[0m in \u001b[0;36mcheck_response\u001b[0;34m(self, response)\u001b[0m\n\u001b[1;32m    241\u001b[0m                 \u001b[0malert_text\u001b[0m \u001b[0;34m=\u001b[0m \u001b[0mvalue\u001b[0m\u001b[0;34m[\u001b[0m\u001b[0;34m'alert'\u001b[0m\u001b[0;34m]\u001b[0m\u001b[0;34m.\u001b[0m\u001b[0mget\u001b[0m\u001b[0;34m(\u001b[0m\u001b[0;34m'text'\u001b[0m\u001b[0;34m)\u001b[0m\u001b[0;34m\u001b[0m\u001b[0;34m\u001b[0m\u001b[0m\n\u001b[1;32m    242\u001b[0m             \u001b[0;32mraise\u001b[0m \u001b[0mexception_class\u001b[0m\u001b[0;34m(\u001b[0m\u001b[0mmessage\u001b[0m\u001b[0;34m,\u001b[0m \u001b[0mscreen\u001b[0m\u001b[0;34m,\u001b[0m \u001b[0mstacktrace\u001b[0m\u001b[0;34m,\u001b[0m \u001b[0malert_text\u001b[0m\u001b[0;34m)\u001b[0m  \u001b[0;31m# type: ignore[call-arg]  # mypy is not smart enough here\u001b[0m\u001b[0;34m\u001b[0m\u001b[0;34m\u001b[0m\u001b[0m\n\u001b[0;32m--> 243\u001b[0;31m         \u001b[0;32mraise\u001b[0m \u001b[0mexception_class\u001b[0m\u001b[0;34m(\u001b[0m\u001b[0mmessage\u001b[0m\u001b[0;34m,\u001b[0m \u001b[0mscreen\u001b[0m\u001b[0;34m,\u001b[0m \u001b[0mstacktrace\u001b[0m\u001b[0;34m)\u001b[0m\u001b[0;34m\u001b[0m\u001b[0;34m\u001b[0m\u001b[0m\n\u001b[0m",
      "\u001b[0;31mNoSuchElementException\u001b[0m: Message: no such element: Unable to locate element: {\"method\":\"css selector\",\"selector\":\"[id=\"search_btn\"]\"}\n  (Session info: chrome=107.0.5304.62)\nStacktrace:\n0   chromedriver                        0x000000010b033598 chromedriver + 4404632\n1   chromedriver                        0x000000010afbafa3 chromedriver + 3911587\n2   chromedriver                        0x000000010ac67e6a chromedriver + 425578\n3   chromedriver                        0x000000010ac9fc91 chromedriver + 654481\n4   chromedriver                        0x000000010ac9fe91 chromedriver + 654993\n5   chromedriver                        0x000000010acd7274 chromedriver + 881268\n6   chromedriver                        0x000000010acbddcd chromedriver + 777677\n7   chromedriver                        0x000000010acd4f79 chromedriver + 872313\n8   chromedriver                        0x000000010acbdbd3 chromedriver + 777171\n9   chromedriver                        0x000000010ac92ced chromedriver + 601325\n10  chromedriver                        0x000000010ac93e51 chromedriver + 605777\n11  chromedriver                        0x000000010b0030ce chromedriver + 4206798\n12  chromedriver                        0x000000010b007797 chromedriver + 4224919\n13  chromedriver                        0x000000010b00ea4f chromedriver + 4254287\n14  chromedriver                        0x000000010b0084da chromedriver + 4228314\n15  chromedriver                        0x000000010afe123f chromedriver + 4067903\n16  chromedriver                        0x000000010b0256a8 chromedriver + 4347560\n17  chromedriver                        0x000000010b025816 chromedriver + 4347926\n18  chromedriver                        0x000000010b03a8fe chromedriver + 4434174\n19  libsystem_pthread.dylib             0x00007ff81d36f4e1 _pthread_start + 125\n20  libsystem_pthread.dylib             0x00007ff81d36af6b thread_start + 15\n"
     ]
    }
   ],
   "source": [
    "browser.find_element(By.ID,'search_btn').click()"
   ]
  },
  {
   "cell_type": "code",
   "execution_count": 10,
   "id": "247ccfc2",
   "metadata": {},
   "outputs": [
    {
     "data": {
      "text/plain": [
       "'3.5°'"
      ]
     },
     "execution_count": 10,
     "metadata": {},
     "output_type": "execute_result"
    }
   ],
   "source": [
    "data = browser.find_element(By.XPATH,'//*[@id=\"main_pack\"]/section[1]/div[1]/div[2]/div[1]/div[1]/div/div[2]/div/div[1]/div[1]/div[2]').text\n",
    "data[6:]"
   ]
  },
  {
   "cell_type": "code",
   "execution_count": 9,
   "id": "6c2cecdc",
   "metadata": {},
   "outputs": [],
   "source": [
    "browser.find_element(By.ID,'nx_query').clear()"
   ]
  },
  {
   "cell_type": "code",
   "execution_count": 12,
   "id": "d2514078",
   "metadata": {},
   "outputs": [],
   "source": [
    "browser.find_element(By.ID,'nx_query').send_keys(\"환율\")"
   ]
  },
  {
   "cell_type": "code",
   "execution_count": 13,
   "id": "6f916f46",
   "metadata": {},
   "outputs": [],
   "source": [
    "browser.find_element(By.XPATH,'//*[@id=\"nx_search_form\"]/fieldset/button').click()"
   ]
  },
  {
   "cell_type": "code",
   "execution_count": 14,
   "id": "50338bcc",
   "metadata": {},
   "outputs": [
    {
     "data": {
      "text/plain": [
       "'1,433.00'"
      ]
     },
     "execution_count": 14,
     "metadata": {},
     "output_type": "execute_result"
    }
   ],
   "source": [
    "browser.find_element(By.XPATH,'//*[@id=\"_cs_foreigninfo\"]/div/div[2]/div/div[1]/div[1]/div[1]/div[1]/h3/a/span[2]/strong').text"
   ]
  },
  {
   "cell_type": "markdown",
   "id": "91380579",
   "metadata": {},
   "source": [
    "### 구글 뉴스 크롤링"
   ]
  },
  {
   "cell_type": "code",
   "execution_count": 15,
   "id": "223f9018",
   "metadata": {},
   "outputs": [],
   "source": [
    "browser.get('https://www.google.com/search?q=%EC%9E%90%EB%8F%99%ED%99%94&tbm=nws&source=lnt&tbs=qdr:w&sa=X&ved=2ahUKEwjbsKiu4Pr6AhVJdXAKHa33CYoQpwV6BAgCEBs&biw=878&bih=751&dpr=2')"
   ]
  },
  {
   "cell_type": "code",
   "execution_count": 16,
   "id": "d6e296eb",
   "metadata": {},
   "outputs": [
    {
     "name": "stdout",
     "output_type": "stream",
     "text": [
      "https://www.yonhapnewstv.co.kr/news/MYH20221025012900038 [비즈&] 롯데홈쇼핑, 물류센터에 업계 최초 자동화 시스템 도입 外 롯데홈쇼핑이 경기도 이천에 업계 최초로 자동화 시스템을 도입한 물류센터를 열었습니다. 자율주행 기반의 로봇을 도입하고 8,134평 규모의 단층 구조, 원라인 시스템으로...\n"
     ]
    }
   ],
   "source": [
    "link = browser.find_element(By.CLASS_NAME,'WlydOe').get_attribute('href')\n",
    "title = browser.find_element(By.CLASS_NAME,'mCBkyc').text\n",
    "content = browser.find_element(By.CLASS_NAME,'GI74Re').text\n",
    "print(link, title, content)"
   ]
  },
  {
   "cell_type": "markdown",
   "id": "ec7551e2",
   "metadata": {},
   "source": [
    "##### 1페이지 뉴스 크롤링(10개)"
   ]
  },
  {
   "cell_type": "code",
   "execution_count": 17,
   "id": "b53f00bf",
   "metadata": {},
   "outputs": [
    {
     "name": "stdout",
     "output_type": "stream",
     "text": [
      "['https://www.yonhapnewstv.co.kr/news/MYH20221025012900038', 'https://news.einfomax.co.kr/news/articleView.html?idxno=4239120', 'https://www.pressian.com/pages/articles/2022102523120788243', 'https://www.hellot.net/news/article.html?no=72189', 'http://www.klnews.co.kr/news/articleView.html?idxno=305926', 'http://www.hellot.net/news/article.html?no=72267', 'http://www.snmnews.com/news/articleView.html?idxno=506612', 'https://www.itworld.co.kr/news/260974', 'http://www.newsfreezone.co.kr/news/articleView.html?idxno=419338', 'https://byline.network/2022/10/20-208/']\n"
     ]
    }
   ],
   "source": [
    "links = browser.find_elements(By.CLASS_NAME,'WlydOe')\n",
    "\n",
    "link=[]\n",
    "for i in links:\n",
    "    link.append(i.get_attribute('href'))\n",
    " \n",
    "print(link)"
   ]
  },
  {
   "cell_type": "code",
   "execution_count": 18,
   "id": "ee1d7e1b",
   "metadata": {},
   "outputs": [
    {
     "name": "stdout",
     "output_type": "stream",
     "text": [
      "['롯데홈쇼핑이 경기도 이천에 업계 최초로 자동화 시스템을 도입한 물류센터를 열었습니다. 자율주행 기반의 로봇을 도입하고 8134평 규모의 단층 구조 원라인 시스템으로...', '(서울=연합인포맥스) 정지서 기자 = 한화생명이 업계 최초로 보험 신계약 과정을 로봇 기술로 자동화하며 법인대리점(GA) 시장에서의 영업 경쟁력 강화에 나섰다.', '용접·절단자동화 관련 기업체 판로 개척 지원과 신기술 정보 획득 및 정보 교류의 장을 마련하기 위한 목적으로 개최됐다. 이 전시회는 한국전시산업진흥회가 인증하는...', '... 가 선보인 테센트 멀티-다이 소프트웨어는 2.5D 및 3D IC 설계와 관련된 매우 복잡한 DFT 작업을 수행하기 위한 업계에서 가장 포괄적인 DFT 자동화 솔루션이다.', '자율주행로봇 무인운반차 로봇팔 디팔렛타이저 등 최첨단 자동화 설비 도입. 롯데홈쇼핑(대표 이완신)이 난 21일(금) 경기도 이천에서 업계 최초로 자동화 시스템을...', '조선3사의 경우 이러한 인력난을 타개하기 위해 최근 무인자율운향 스마트조선소를 추진하고 있다. 특히 많은 용접 작업이 수행되는 공정 특성상 용접용 로봇 자동화...', \"최첨단 공구 및 스마트 용접 자동화기기를 한눈에 볼 수 있었던 '2022 국제 공구 및 스마트 용접 자동화전(TOOL TECH + SMART WELDING AUTOMATION FAIR)'이 나흘간 2...\", '자동화는 반복적인 네트워킹 작업에서 큰 차이를 만들어낼 수 있다. 파이썬 스크립트와 오픈소스 툴을 사용해 엔터프라이즈 스위치 업그레이드를 효율화하기 위해 필자...', '용접 절단 최대 수요지인 창원에서 지난 18일부터 4일 간 개최된 34년 역사의 용접·절단 기술 전문 전시회인 창원국제용접 및 절단자동화전에는 1만여명의 관람객이 다녀...', '웨이브2에는 엔터프라이즈 자동화뿐 아니라 퍼스널 자동화(Personal Automation) 요소도 포함된다. 그는 “지난 3년 동안 많은 기업들이 RPA를 적용하면서 시간과 비용을...']\n"
     ]
    }
   ],
   "source": [
    "contents = browser.find_elements(By.CLASS_NAME,'GI74Re')\n",
    "\n",
    "content=[]\n",
    "for i in contents:\n",
    "    temp_content = i.text\n",
    "    temp_content = temp_content.replace(\",\",\"\")\n",
    "    content.append(temp_content)\n",
    "\n",
    "print(content)"
   ]
  },
  {
   "cell_type": "code",
   "execution_count": 19,
   "id": "f5db3e14",
   "metadata": {},
   "outputs": [
    {
     "name": "stdout",
     "output_type": "stream",
     "text": [
      "['[비즈&] 롯데홈쇼핑 물류센터에 업계 최초 자동화 시스템 도입 外']\n",
      "['[비즈&] 롯데홈쇼핑 물류센터에 업계 최초 자동화 시스템 도입 外', \"'5분이면 청약 끝'…한화생명 청약자동화 솔루션 특허 취득\"]\n",
      "['[비즈&] 롯데홈쇼핑 물류센터에 업계 최초 자동화 시스템 도입 外', \"'5분이면 청약 끝'…한화생명 청약자동화 솔루션 특허 취득\", '창원시 창원국제용접 및 절단자동화전 성료']\n",
      "['[비즈&] 롯데홈쇼핑 물류센터에 업계 최초 자동화 시스템 도입 外', \"'5분이면 청약 끝'…한화생명 청약자동화 솔루션 특허 취득\", '창원시 창원국제용접 및 절단자동화전 성료', \"지멘스 차세대 IC DFT 자동화 솔루션 '테센트 멀티-다이' 공개\"]\n",
      "['[비즈&] 롯데홈쇼핑 물류센터에 업계 최초 자동화 시스템 도입 外', \"'5분이면 청약 끝'…한화생명 청약자동화 솔루션 특허 취득\", '창원시 창원국제용접 및 절단자동화전 성료', \"지멘스 차세대 IC DFT 자동화 솔루션 '테센트 멀티-다이' 공개\", '롯데홈쇼핑 이천 물류센터 오픈...최첨단 자동화 시스템 갖춰']\n",
      "['[비즈&] 롯데홈쇼핑 물류센터에 업계 최초 자동화 시스템 도입 外', \"'5분이면 청약 끝'…한화생명 청약자동화 솔루션 특허 취득\", '창원시 창원국제용접 및 절단자동화전 성료', \"지멘스 차세대 IC DFT 자동화 솔루션 '테센트 멀티-다이' 공개\", '롯데홈쇼핑 이천 물류센터 오픈...최첨단 자동화 시스템 갖춰', '[AI 기반 제조혁신-②] 조선업계 업황 개선에 인력 부족은 더욱 ...']\n",
      "['[비즈&] 롯데홈쇼핑 물류센터에 업계 최초 자동화 시스템 도입 外', \"'5분이면 청약 끝'…한화생명 청약자동화 솔루션 특허 취득\", '창원시 창원국제용접 및 절단자동화전 성료', \"지멘스 차세대 IC DFT 자동화 솔루션 '테센트 멀티-다이' 공개\", '롯데홈쇼핑 이천 물류센터 오픈...최첨단 자동화 시스템 갖춰', '[AI 기반 제조혁신-②] 조선업계 업황 개선에 인력 부족은 더욱 ...', '‘2022 국제 공구 및 스마트 용접 자동화전’ 성료']\n",
      "['[비즈&] 롯데홈쇼핑 물류센터에 업계 최초 자동화 시스템 도입 外', \"'5분이면 청약 끝'…한화생명 청약자동화 솔루션 특허 취득\", '창원시 창원국제용접 및 절단자동화전 성료', \"지멘스 차세대 IC DFT 자동화 솔루션 '테센트 멀티-다이' 공개\", '롯데홈쇼핑 이천 물류센터 오픈...최첨단 자동화 시스템 갖춰', '[AI 기반 제조혁신-②] 조선업계 업황 개선에 인력 부족은 더욱 ...', '‘2022 국제 공구 및 스마트 용접 자동화전’ 성료', '자동화로 네트워크 전체 스위치 업그레이드를 효율화하는 방법']\n",
      "['[비즈&] 롯데홈쇼핑 물류센터에 업계 최초 자동화 시스템 도입 外', \"'5분이면 청약 끝'…한화생명 청약자동화 솔루션 특허 취득\", '창원시 창원국제용접 및 절단자동화전 성료', \"지멘스 차세대 IC DFT 자동화 솔루션 '테센트 멀티-다이' 공개\", '롯데홈쇼핑 이천 물류센터 오픈...최첨단 자동화 시스템 갖춰', '[AI 기반 제조혁신-②] 조선업계 업황 개선에 인력 부족은 더욱 ...', '‘2022 국제 공구 및 스마트 용접 자동화전’ 성료', '자동화로 네트워크 전체 스위치 업그레이드를 효율화하는 방법', '창원시 \"국내 최대 용접 및 절단자동화전 328억 수출상담\"']\n",
      "['[비즈&] 롯데홈쇼핑 물류센터에 업계 최초 자동화 시스템 도입 外', \"'5분이면 청약 끝'…한화생명 청약자동화 솔루션 특허 취득\", '창원시 창원국제용접 및 절단자동화전 성료', \"지멘스 차세대 IC DFT 자동화 솔루션 '테센트 멀티-다이' 공개\", '롯데홈쇼핑 이천 물류센터 오픈...최첨단 자동화 시스템 갖춰', '[AI 기반 제조혁신-②] 조선업계 업황 개선에 인력 부족은 더욱 ...', '‘2022 국제 공구 및 스마트 용접 자동화전’ 성료', '자동화로 네트워크 전체 스위치 업그레이드를 효율화하는 방법', '창원시 \"국내 최대 용접 및 절단자동화전 328억 수출상담\"', '유아이패스 “자동화 시장 RPA에서 지능형 프로세스 자동화(IPA ...']\n"
     ]
    }
   ],
   "source": [
    "titles = browser.find_elements(By.CLASS_NAME,'mCBkyc')\n",
    "\n",
    "title=[]\n",
    "for i in titles:\n",
    "    temp_title = i.text\n",
    "    temp_title = temp_title.replace(\",\",\"\")\n",
    "    title.append(temp_title)\n",
    "    \n",
    "\n",
    "    print(title)\n",
    "    "
   ]
  },
  {
   "cell_type": "code",
   "execution_count": 20,
   "id": "d1e9a5e5",
   "metadata": {},
   "outputs": [],
   "source": [
    "file = open(\"test.csv\", \"a\", encoding=\"UTF-8-sig\")\n",
    "file.write(\"{}, {}, {} \\n\".format(\"제목\", \"내용\", \"링크\"))\n",
    "file.close()"
   ]
  },
  {
   "cell_type": "code",
   "execution_count": 21,
   "id": "b8cfb0d3",
   "metadata": {},
   "outputs": [],
   "source": [
    "# [title], [content], [link]\n",
    "file = open(\"google_news.csv\", \"a\", encoding=\"UTF-8-sig\")\n",
    "# a는 밑에 추가됨\n",
    "\n",
    "for i in range(len(title)):\n",
    "    file.write(\"{}, {}, {} \\n\".format(title[i] ,content[i],link[i]))\n",
    "\n",
    "file.close()"
   ]
  },
  {
   "cell_type": "markdown",
   "id": "f825acba",
   "metadata": {},
   "source": [
    "## 과제 네이버 환율 데이터 크롤링"
   ]
  },
  {
   "cell_type": "code",
   "execution_count": 22,
   "id": "82716a45",
   "metadata": {},
   "outputs": [],
   "source": [
    "browser.get(\"https://search.naver.com/search.naver?where=nexearch&sm=top_hty&fbm=0&ie=utf8&query=%ED%99%98%EC%9C%A8\")"
   ]
  },
  {
   "cell_type": "code",
   "execution_count": 28,
   "id": "63c9f180",
   "metadata": {},
   "outputs": [
    {
     "name": "stdout",
     "output_type": "stream",
     "text": [
      "통화명\n",
      "미국 USD\n",
      "일본 JPY 100\n",
      "유럽연합 EUR\n",
      "중국 CNY\n",
      "영국 GBP\n",
      "호주 AUD\n",
      "캐나다 CAD\n",
      "뉴질랜드 NZD\n"
     ]
    }
   ],
   "source": [
    "table = browser.find_element(By.CLASS_NAME, 'rate_table_bx')\n",
    "rows = table.find_elements(By.TAG_NAME, 'tr')\n",
    "\n",
    "for row in rows:\n",
    "    country_name = row.find_element(By.TAG_NAME, 'th').get\n",
    "    print(country_name)"
   ]
  },
  {
   "cell_type": "code",
   "execution_count": 63,
   "id": "70c07359",
   "metadata": {},
   "outputs": [
    {
     "ename": "AttributeError",
     "evalue": "'list' object has no attribute 'text'",
     "output_type": "error",
     "traceback": [
      "\u001b[0;31m---------------------------------------------------------------------------\u001b[0m",
      "\u001b[0;31mAttributeError\u001b[0m                            Traceback (most recent call last)",
      "\u001b[0;32m/var/folders/qy/933lc_xn4vvgyp0gdwf0xlb80000gn/T/ipykernel_20321/1154381024.py\u001b[0m in \u001b[0;36m<module>\u001b[0;34m\u001b[0m\n\u001b[1;32m      2\u001b[0m     \u001b[0mall_cols\u001b[0m \u001b[0;34m=\u001b[0m \u001b[0mrow\u001b[0m\u001b[0;34m.\u001b[0m\u001b[0mfind_elements\u001b[0m\u001b[0;34m(\u001b[0m\u001b[0mBy\u001b[0m\u001b[0;34m.\u001b[0m\u001b[0mTAG_NAME\u001b[0m\u001b[0;34m,\u001b[0m \u001b[0;34m'td'\u001b[0m\u001b[0;34m)\u001b[0m\u001b[0;34m\u001b[0m\u001b[0;34m\u001b[0m\u001b[0m\n\u001b[1;32m      3\u001b[0m     \u001b[0mcols\u001b[0m \u001b[0;34m=\u001b[0m \u001b[0mdir\u001b[0m\u001b[0;34m(\u001b[0m\u001b[0mall_cols\u001b[0m\u001b[0;34m)\u001b[0m\u001b[0;34m\u001b[0m\u001b[0;34m\u001b[0m\u001b[0m\n\u001b[0;32m----> 4\u001b[0;31m     \u001b[0mprint\u001b[0m\u001b[0;34m(\u001b[0m\u001b[0mcols\u001b[0m\u001b[0;34m.\u001b[0m\u001b[0mtext\u001b[0m\u001b[0;34m)\u001b[0m\u001b[0;34m\u001b[0m\u001b[0;34m\u001b[0m\u001b[0m\n\u001b[0m",
      "\u001b[0;31mAttributeError\u001b[0m: 'list' object has no attribute 'text'"
     ]
    }
   ],
   "source": [
    "for row in rows:\n",
    "    all_cols = row.find_elements(By.TAG_NAME, 'td')\n",
    "    cols = dir(all_cols)\n",
    "    print(cols.text)\n"
   ]
  },
  {
   "cell_type": "code",
   "execution_count": null,
   "id": "deeaff8f",
   "metadata": {},
   "outputs": [],
   "source": []
  },
  {
   "cell_type": "code",
   "execution_count": null,
   "id": "0c51abf2",
   "metadata": {},
   "outputs": [],
   "source": []
  }
 ],
 "metadata": {
  "kernelspec": {
   "display_name": "Python 3 (ipykernel)",
   "language": "python",
   "name": "python3"
  },
  "language_info": {
   "codemirror_mode": {
    "name": "ipython",
    "version": 3
   },
   "file_extension": ".py",
   "mimetype": "text/x-python",
   "name": "python",
   "nbconvert_exporter": "python",
   "pygments_lexer": "ipython3",
   "version": "3.9.13"
  }
 },
 "nbformat": 4,
 "nbformat_minor": 5
}
